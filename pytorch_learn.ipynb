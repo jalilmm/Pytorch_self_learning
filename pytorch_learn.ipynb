{
 "cells": [
  {
   "cell_type": "markdown",
   "metadata": {},
   "source": [
    "Pytorch fundamentals"
   ]
  },
  {
   "cell_type": "code",
   "execution_count": 669,
   "metadata": {},
   "outputs": [
    {
     "name": "stdout",
     "output_type": "stream",
     "text": [
      "2.1.0.dev20230424+cu118\n"
     ]
    }
   ],
   "source": [
    "import numpy as np\n",
    "import pandas as pd\n",
    "import matplotlib.pyplot as plt\n",
    "import torch\n",
    "print(torch.__version__)\n"
   ]
  },
  {
   "cell_type": "markdown",
   "metadata": {},
   "source": [
    "Introduction to tensor"
   ]
  },
  {
   "cell_type": "markdown",
   "metadata": {},
   "source": [
    "![Alt text](<0 zcidDaCCmJeD8y-9.png>)"
   ]
  },
  {
   "cell_type": "code",
   "execution_count": 670,
   "metadata": {},
   "outputs": [
    {
     "name": "stdout",
     "output_type": "stream",
     "text": [
      "tensor(10)\n",
      "torch.Size([])\n",
      "0\n",
      "10\n"
     ]
    }
   ],
   "source": [
    "#creat scalar tensor\n",
    "scalar=torch.tensor(10)\n",
    "print(scalar)\n",
    "print(scalar.shape)\n",
    "print(scalar.ndim)#dimension\n",
    "print(scalar.item())"
   ]
  },
  {
   "cell_type": "code",
   "execution_count": 671,
   "metadata": {},
   "outputs": [
    {
     "name": "stdout",
     "output_type": "stream",
     "text": [
      "1\n",
      "torch.Size([3])\n",
      "tensor([1, 2, 3])\n"
     ]
    }
   ],
   "source": [
    "#vector\n",
    "\n",
    "vector = torch.tensor([1,2,3])\n",
    "print(vector.ndim)\n",
    "print(vector.shape)\n",
    "print(vector)\n",
    "\n",
    "#matrix"
   ]
  },
  {
   "cell_type": "code",
   "execution_count": 672,
   "metadata": {},
   "outputs": [
    {
     "name": "stdout",
     "output_type": "stream",
     "text": [
      "tensor([[1, 2, 3],\n",
      "        [4, 5, 6]])\n",
      "torch.Size([2, 3])\n",
      "2\n"
     ]
    }
   ],
   "source": [
    "#MATRIX\n",
    "import torch\n",
    "matrix=torch.tensor([[1,2,3],\n",
    "                     [4,5,6]])\n",
    "print(matrix)\n",
    "print(matrix.shape)\n",
    "print(matrix.ndim)\n"
   ]
  },
  {
   "cell_type": "code",
   "execution_count": 673,
   "metadata": {},
   "outputs": [
    {
     "name": "stdout",
     "output_type": "stream",
     "text": [
      "tensor([[[1, 2, 3],\n",
      "         [4, 5, 6],\n",
      "         [7, 8, 9]]])\n",
      "torch.Size([1, 3, 3])\n",
      "3\n",
      "tensor(2)\n",
      "tensor([[1, 2, 3]])\n"
     ]
    }
   ],
   "source": [
    "#TENSOR\n",
    "import torch\n",
    "tensor = torch.tensor([[[1,2,3],\n",
    "                        [4,5,6],\n",
    "                        [7,8,9]]])\n",
    "\n",
    "print(tensor)\n",
    "print(tensor.shape)\n",
    "print(tensor.ndim)\n",
    "print(tensor[0,0,1])\n",
    "print(tensor[0,0:1])"
   ]
  },
  {
   "cell_type": "code",
   "execution_count": 674,
   "metadata": {},
   "outputs": [
    {
     "name": "stdout",
     "output_type": "stream",
     "text": [
      "tensor([[[0.3829, 0.9593, 0.3904],\n",
      "         [0.6009, 0.2566, 0.7936],\n",
      "         [0.9408, 0.1332, 0.9346]],\n",
      "\n",
      "        [[0.5936, 0.8694, 0.5677],\n",
      "         [0.7411, 0.4294, 0.8854],\n",
      "         [0.5739, 0.2666, 0.6274]],\n",
      "\n",
      "        [[0.2696, 0.4414, 0.2969],\n",
      "         [0.8317, 0.1053, 0.2695],\n",
      "         [0.3588, 0.1994, 0.5472]]])\n",
      "3\n"
     ]
    }
   ],
   "source": [
    "#Random Tansor\n",
    "random_tensor = torch.rand(3,3,3)\n",
    "print(random_tensor)\n",
    "print(random_tensor.ndim)"
   ]
  },
  {
   "cell_type": "code",
   "execution_count": 675,
   "metadata": {},
   "outputs": [
    {
     "name": "stdout",
     "output_type": "stream",
     "text": [
      "tensor([[[0.0062, 0.9516, 0.0753],\n",
      "         [0.8860, 0.5832, 0.3376],\n",
      "         [0.8090, 0.5779, 0.9040],\n",
      "         ...,\n",
      "         [0.5840, 0.9902, 0.5978],\n",
      "         [0.7888, 0.9008, 0.9180],\n",
      "         [0.2201, 0.9597, 0.8029]],\n",
      "\n",
      "        [[0.2662, 0.2614, 0.0806],\n",
      "         [0.6256, 0.0947, 0.7112],\n",
      "         [0.6579, 0.0656, 0.6363],\n",
      "         ...,\n",
      "         [0.7472, 0.0614, 0.1727],\n",
      "         [0.1405, 0.9203, 0.9251],\n",
      "         [0.5313, 0.9694, 0.3328]],\n",
      "\n",
      "        [[0.0146, 0.6746, 0.6771],\n",
      "         [0.9902, 0.4999, 0.8832],\n",
      "         [0.8065, 0.8619, 0.0038],\n",
      "         ...,\n",
      "         [0.3650, 0.0908, 0.6902],\n",
      "         [0.8538, 0.5396, 0.1421],\n",
      "         [0.1213, 0.3054, 0.6454]],\n",
      "\n",
      "        ...,\n",
      "\n",
      "        [[0.2563, 0.1063, 0.4770],\n",
      "         [0.2286, 0.9968, 0.1086],\n",
      "         [0.5112, 0.1330, 0.3661],\n",
      "         ...,\n",
      "         [0.7548, 0.6381, 0.0106],\n",
      "         [0.0893, 0.6170, 0.3402],\n",
      "         [0.8306, 0.0705, 0.2111]],\n",
      "\n",
      "        [[0.6203, 0.6531, 0.4660],\n",
      "         [0.2933, 0.0641, 0.1330],\n",
      "         [0.6317, 0.0481, 0.4617],\n",
      "         ...,\n",
      "         [0.7265, 0.6237, 0.8480],\n",
      "         [0.4580, 0.2424, 0.8264],\n",
      "         [0.0015, 0.9050, 0.1563]],\n",
      "\n",
      "        [[0.7214, 0.2574, 0.0023],\n",
      "         [0.2589, 0.6026, 0.3414],\n",
      "         [0.6128, 0.0696, 0.1393],\n",
      "         ...,\n",
      "         [0.6286, 0.9663, 0.7687],\n",
      "         [0.4566, 0.5745, 0.9200],\n",
      "         [0.3230, 0.8613, 0.0919]]])\n"
     ]
    }
   ],
   "source": [
    "#create random tensor similar to an image tensor\n",
    "\n",
    "rndm_image_tensor=torch.rand(size=(224,224,3))#h,w and channel\n",
    "print(rndm_image_tensor)"
   ]
  },
  {
   "cell_type": "markdown",
   "metadata": {},
   "source": [
    "Creating a range of tensors and tensors like"
   ]
  },
  {
   "cell_type": "code",
   "execution_count": 676,
   "metadata": {},
   "outputs": [
    {
     "data": {
      "text/plain": [
       "tensor([0, 1, 2, 3, 4, 5, 6, 7, 8, 9])"
      ]
     },
     "execution_count": 676,
     "metadata": {},
     "output_type": "execute_result"
    }
   ],
   "source": [
    "one_to_ten=torch.arange(start=0,end=10,step=1)\n",
    "one_to_ten\n"
   ]
  },
  {
   "cell_type": "code",
   "execution_count": 677,
   "metadata": {},
   "outputs": [
    {
     "data": {
      "text/plain": [
       "tensor([0, 0, 0, 0, 0, 0, 0, 0, 0, 0])"
      ]
     },
     "execution_count": 677,
     "metadata": {},
     "output_type": "execute_result"
    }
   ],
   "source": [
    "ten_zeros=torch.zeros_like(one_to_ten)\n",
    "ten_zeros"
   ]
  },
  {
   "cell_type": "markdown",
   "metadata": {},
   "source": [
    "Tensor Datatypes"
   ]
  },
  {
   "cell_type": "code",
   "execution_count": 678,
   "metadata": {},
   "outputs": [
    {
     "data": {
      "text/plain": [
       "torch.float32"
      ]
     },
     "execution_count": 678,
     "metadata": {},
     "output_type": "execute_result"
    }
   ],
   "source": [
    "float_32_tensor=torch.tensor([3.0 ,4.0, 6.0],dtype=None,device=None,requires_grad=False)\n",
    "\n",
    "float_32_tensor.dtype\n",
    "\n",
    "#be ready to face with datatype issues in pytorch and Deep learning"
   ]
  },
  {
   "cell_type": "code",
   "execution_count": 679,
   "metadata": {},
   "outputs": [
    {
     "name": "stdout",
     "output_type": "stream",
     "text": [
      "tensor([3., 4., 6.], dtype=torch.float16)\n"
     ]
    }
   ],
   "source": [
    "float_16_tensor=float_32_tensor.type(torch.float16)\n",
    "\n",
    "print(float_16_tensor)\n"
   ]
  },
  {
   "cell_type": "code",
   "execution_count": 680,
   "metadata": {},
   "outputs": [
    {
     "name": "stdout",
     "output_type": "stream",
     "text": [
      "tensor([[0.3102, 0.9536, 0.6002, 0.0351],\n",
      "        [0.6826, 0.3743, 0.5220, 0.1336],\n",
      "        [0.9666, 0.9754, 0.8474, 0.8988]])\n"
     ]
    }
   ],
   "source": [
    "import torch\n",
    "some_tensor=torch.rand(3,4)\n",
    "print(some_tensor)"
   ]
  },
  {
   "cell_type": "code",
   "execution_count": 681,
   "metadata": {},
   "outputs": [
    {
     "name": "stdout",
     "output_type": "stream",
     "text": [
      "Datatype of the tensor is torch.float32\n",
      "Shape of tensor is torch.Size([3, 4])\n",
      "Device tensor is stored on cpu\n"
     ]
    }
   ],
   "source": [
    "print(f\"Datatype of the tensor is {some_tensor.dtype}\")\n",
    "print(f\"Shape of tensor is {some_tensor.shape}\")\n",
    "print(f\"Device tensor is stored on {some_tensor.device}\")\n",
    "\n",
    "# Operations\n",
    "# Tensorboard\")"
   ]
  },
  {
   "cell_type": "markdown",
   "metadata": {},
   "source": [
    "Manupulation of Tensor"
   ]
  },
  {
   "cell_type": "code",
   "execution_count": 682,
   "metadata": {},
   "outputs": [
    {
     "name": "stdout",
     "output_type": "stream",
     "text": [
      "tensor([11, 12, 13])\n",
      "tensor([10, 20, 30])\n",
      "tensor([-9, -8, -7])\n",
      "tensor([10, 20, 30])\n",
      "tensor([0.1000, 0.2000, 0.3000])\n",
      "tensor([1, 4, 9])\n",
      "tensor([1.0000, 1.4142, 1.7321])\n",
      "tensor([0.0000, 0.6931, 1.0986])\n"
     ]
    }
   ],
   "source": [
    "import torch\n",
    "tnsr=torch.tensor([1,2,3])\n",
    "print(tnsr+10)\n",
    "print(tnsr*10)\n",
    "print(tnsr-10)\n",
    "print(torch.mul(tnsr,10))\n",
    "print(torch.div(tnsr,10))\n",
    "print(torch.pow(tnsr,2))\n",
    "print(torch.sqrt(tnsr))\n",
    "print(torch.log(tnsr))\n",
    " \n"
   ]
  },
  {
   "cell_type": "code",
   "execution_count": 683,
   "metadata": {},
   "outputs": [
    {
     "name": "stdout",
     "output_type": "stream",
     "text": [
      "tensor([1, 2, 3]) * tensor([1, 2, 3])\n",
      "Equals :tensor([1, 4, 9])\n"
     ]
    }
   ],
   "source": [
    "print(tnsr, \"*\",tnsr)\n",
    "print(f\"Equals :{tnsr * tnsr}\")"
   ]
  },
  {
   "cell_type": "code",
   "execution_count": 684,
   "metadata": {},
   "outputs": [
    {
     "name": "stdout",
     "output_type": "stream",
     "text": [
      "CPU times: total: 0 ns\n",
      "Wall time: 0 ns\n"
     ]
    },
    {
     "data": {
      "text/plain": [
       "tensor(14)"
      ]
     },
     "execution_count": 684,
     "metadata": {},
     "output_type": "execute_result"
    }
   ],
   "source": [
    "%%time\n",
    "torch.matmul(tnsr,tnsr)"
   ]
  },
  {
   "cell_type": "code",
   "execution_count": 685,
   "metadata": {},
   "outputs": [
    {
     "data": {
      "text/plain": [
       "tensor([[[1.3998, 0.7419, 0.8896, 0.8972, 0.5931, 1.3372, 1.2457, 0.3961],\n",
       "         [1.4871, 0.8139, 0.9428, 0.9460, 0.6469, 1.4301, 1.3058, 0.4429],\n",
       "         [1.9856, 1.5195, 1.1581, 1.1149, 1.2965, 2.0045, 1.3456, 1.0277],\n",
       "         [1.1330, 0.5724, 0.5321, 0.5807, 0.8428, 0.9251, 1.0156, 0.4522],\n",
       "         [1.7464, 1.0790, 0.9625, 0.9980, 1.1443, 1.6007, 1.3082, 0.7553],\n",
       "         [1.0593, 0.9694, 0.6208, 0.5888, 0.7920, 1.1234, 0.4990, 0.6875]],\n",
       "\n",
       "        [[1.0588, 1.3039, 1.1289, 1.2513, 0.9273, 0.6328, 0.5640, 0.7806],\n",
       "         [1.0051, 1.3654, 0.9057, 1.2565, 1.0016, 0.6746, 0.6553, 0.7192],\n",
       "         [0.8861, 0.8475, 0.9879, 0.9434, 0.9740, 0.4914, 0.4713, 0.8078],\n",
       "         [1.5014, 1.5117, 1.7464, 1.9937, 1.6779, 1.1303, 1.1132, 1.4957],\n",
       "         [0.6004, 0.6258, 0.6910, 0.6803, 0.5832, 0.3485, 0.3169, 0.5146],\n",
       "         [0.9681, 1.1735, 0.9623, 1.0428, 0.9172, 0.5170, 0.4721, 0.6988]],\n",
       "\n",
       "        [[0.2076, 1.4595, 1.4284, 1.2386, 1.8941, 2.2092, 1.5130, 2.1445],\n",
       "         [0.0486, 0.7396, 0.7531, 0.8996, 0.9562, 1.2384, 0.8912, 0.7788],\n",
       "         [0.1912, 1.1352, 0.8109, 1.1842, 1.7980, 1.9102, 1.0139, 1.2983],\n",
       "         [0.0583, 1.0443, 1.2411, 1.1906, 1.3290, 1.8103, 1.1426, 1.3881],\n",
       "         [0.1165, 1.0302, 0.9546, 1.0602, 1.3236, 1.5848, 1.2113, 1.2096],\n",
       "         [0.0678, 1.0564, 1.4008, 1.0308, 1.2905, 1.8069, 1.0579, 1.7467]]])"
      ]
     },
     "execution_count": 685,
     "metadata": {},
     "output_type": "execute_result"
    }
   ],
   "source": [
    "torch.matmul(torch.rand(3,6,4),torch.rand(3,4,8))\n",
    "\n",
    "\n",
    "#in case you face with shape issue you can use transpose"
   ]
  },
  {
   "cell_type": "code",
   "execution_count": 686,
   "metadata": {},
   "outputs": [
    {
     "name": "stdout",
     "output_type": "stream",
     "text": [
      "torch.Size([3, 4])\n",
      "torch.Size([3, 4])\n",
      "torch.Size([4, 3])\n"
     ]
    },
    {
     "data": {
      "text/plain": [
       "tensor([[1.3827, 1.1583, 1.5237],\n",
       "        [1.1283, 0.5332, 1.6224],\n",
       "        [1.0478, 0.5414, 1.4915]])"
      ]
     },
     "execution_count": 686,
     "metadata": {},
     "output_type": "execute_result"
    }
   ],
   "source": [
    "#to use transpose\n",
    "tnsr_1=torch.rand(3,4)\n",
    "tnsr_2=torch.rand(3,4)\n",
    "print(tnsr_1.shape)\n",
    "print(tnsr_2.shape)\n",
    "#torch.matmul(tnsr_1,tnsr_2) will have error due to its shape\n",
    "tnsr_2=tnsr_2.T\n",
    "print(tnsr_2.shape)\n",
    "torch.matmul(tnsr_1,tnsr_2)\n"
   ]
  },
  {
   "cell_type": "markdown",
   "metadata": {},
   "source": [
    "Finding min,max,mean and sum"
   ]
  },
  {
   "cell_type": "code",
   "execution_count": 687,
   "metadata": {},
   "outputs": [
    {
     "data": {
      "text/plain": [
       "tensor([ 0, 10, 20, 30, 40, 50, 60, 70, 80, 90])"
      ]
     },
     "execution_count": 687,
     "metadata": {},
     "output_type": "execute_result"
    }
   ],
   "source": [
    "#create tensor\n",
    "x = torch.arange(0,100,10)\n",
    "x"
   ]
  },
  {
   "cell_type": "code",
   "execution_count": 688,
   "metadata": {},
   "outputs": [
    {
     "name": "stdout",
     "output_type": "stream",
     "text": [
      "tensor(90)\n",
      "tensor(90)\n"
     ]
    }
   ],
   "source": [
    "mximum= torch.max(x)\n",
    "print(mximum)\n",
    "print(x.max())\n",
    "#min is same way"
   ]
  },
  {
   "cell_type": "code",
   "execution_count": 689,
   "metadata": {},
   "outputs": [
    {
     "data": {
      "text/plain": [
       "tensor(45., dtype=torch.float16)"
      ]
     },
     "execution_count": 689,
     "metadata": {},
     "output_type": "execute_result"
    }
   ],
   "source": [
    "torch.mean(x.type(torch.float16))\n",
    "# torch.mean requires float datatype, gives error for int"
   ]
  },
  {
   "cell_type": "code",
   "execution_count": 690,
   "metadata": {},
   "outputs": [
    {
     "data": {
      "text/plain": [
       "tensor(450)"
      ]
     },
     "execution_count": 690,
     "metadata": {},
     "output_type": "execute_result"
    }
   ],
   "source": [
    "summ= torch.sum(x)\n",
    "summ"
   ]
  },
  {
   "cell_type": "code",
   "execution_count": 691,
   "metadata": {},
   "outputs": [
    {
     "data": {
      "text/plain": [
       "tensor(0)"
      ]
     },
     "execution_count": 691,
     "metadata": {},
     "output_type": "execute_result"
    }
   ],
   "source": [
    "#finding positional min and max\n",
    "\n",
    "x.argmin() #shows index of minimum value"
   ]
  },
  {
   "cell_type": "code",
   "execution_count": 692,
   "metadata": {},
   "outputs": [
    {
     "data": {
      "text/plain": [
       "tensor(9)"
      ]
     },
     "execution_count": 692,
     "metadata": {},
     "output_type": "execute_result"
    }
   ],
   "source": [
    "x.argmax()"
   ]
  },
  {
   "cell_type": "markdown",
   "metadata": {},
   "source": [
    "Reshape ,stacking ,squuizing,permute and unsqueezing tensors"
   ]
  },
  {
   "cell_type": "code",
   "execution_count": 693,
   "metadata": {},
   "outputs": [
    {
     "name": "stdout",
     "output_type": "stream",
     "text": [
      "torch.Size([10])\n"
     ]
    },
    {
     "data": {
      "text/plain": [
       "tensor([[ 0, 10],\n",
       "        [20, 30],\n",
       "        [40, 50],\n",
       "        [60, 70],\n",
       "        [80, 90]])"
      ]
     },
     "execution_count": 693,
     "metadata": {},
     "output_type": "execute_result"
    }
   ],
   "source": [
    "x\n",
    "print(x.shape)\n",
    "x_reshape = x.reshape(5,2)\n",
    "x_reshape"
   ]
  },
  {
   "cell_type": "code",
   "execution_count": 694,
   "metadata": {},
   "outputs": [
    {
     "data": {
      "text/plain": [
       "tensor([[ 3, 10],\n",
       "        [20, 30],\n",
       "        [40, 50],\n",
       "        [60, 70],\n",
       "        [80, 90]])"
      ]
     },
     "execution_count": 694,
     "metadata": {},
     "output_type": "execute_result"
    }
   ],
   "source": [
    "#if we make change in z it will effect x ,because view shares same memory\n",
    "z = x.view(1,10)\n",
    "z[:,0]=3\n",
    "x\n",
    "x_reshape"
   ]
  },
  {
   "cell_type": "code",
   "execution_count": 695,
   "metadata": {},
   "outputs": [
    {
     "data": {
      "text/plain": [
       "tensor([[ 3, 10, 20, 30, 40, 50, 60, 70, 80, 90],\n",
       "        [ 3, 10, 20, 30, 40, 50, 60, 70, 80, 90],\n",
       "        [ 3, 10, 20, 30, 40, 50, 60, 70, 80, 90],\n",
       "        [ 3, 10, 20, 30, 40, 50, 60, 70, 80, 90],\n",
       "        [ 3, 10, 20, 30, 40, 50, 60, 70, 80, 90]])"
      ]
     },
     "execution_count": 695,
     "metadata": {},
     "output_type": "execute_result"
    }
   ],
   "source": [
    "# stack tensor\n",
    "x_stacked = torch.stack([x,x,x,x,x],dim=0)\n",
    "x_stacked"
   ]
  },
  {
   "cell_type": "code",
   "execution_count": 696,
   "metadata": {},
   "outputs": [
    {
     "data": {
      "text/plain": [
       "tensor([ 3, 10, 20, 30, 40, 50, 60, 70, 80, 90,  3, 10, 20, 30, 40, 50, 60, 70,\n",
       "        80, 90,  3, 10, 20, 30, 40, 50, 60, 70, 80, 90])"
      ]
     },
     "execution_count": 696,
     "metadata": {},
     "output_type": "execute_result"
    }
   ],
   "source": [
    "x_hstacked = torch.hstack([x,x,x])\n",
    "x_vstacked = torch.vstack([x,x,x])\n",
    "x_hstacked"
   ]
  },
  {
   "cell_type": "code",
   "execution_count": 697,
   "metadata": {},
   "outputs": [
    {
     "data": {
      "text/plain": [
       "tensor([[ 3, 10, 20, 30, 40, 50, 60, 70, 80, 90],\n",
       "        [ 3, 10, 20, 30, 40, 50, 60, 70, 80, 90],\n",
       "        [ 3, 10, 20, 30, 40, 50, 60, 70, 80, 90]])"
      ]
     },
     "execution_count": 697,
     "metadata": {},
     "output_type": "execute_result"
    }
   ],
   "source": [
    "x_vstacked"
   ]
  },
  {
   "cell_type": "code",
   "execution_count": 698,
   "metadata": {},
   "outputs": [
    {
     "name": "stdout",
     "output_type": "stream",
     "text": [
      "torch.Size([10])\n"
     ]
    },
    {
     "data": {
      "text/plain": [
       "torch.Size([10, 1])"
      ]
     },
     "execution_count": 698,
     "metadata": {},
     "output_type": "execute_result"
    }
   ],
   "source": [
    "#lets squeeze\n",
    "print(x.shape)\n",
    "un= x.unsqueeze(dim=1)\n",
    "un.shape\n",
    "\n"
   ]
  },
  {
   "cell_type": "code",
   "execution_count": 699,
   "metadata": {},
   "outputs": [
    {
     "name": "stdout",
     "output_type": "stream",
     "text": [
      "Print previous shape :torch.Size([224, 224, 3])\n",
      "Print permuted shape :torch.Size([3, 224, 224])\n"
     ]
    }
   ],
   "source": [
    "# permute\n",
    "\n",
    "x_original = torch.rand(size = (224,224,3))#h,w,channel\n",
    "\n",
    "x_permute = x_original.permute(2,0,1)# shifts axis \n",
    "\n",
    "print(f\"Print previous shape :{x_original.shape}\")\n",
    "print(f\"Print permuted shape :{x_permute.shape}\")\n"
   ]
  },
  {
   "cell_type": "code",
   "execution_count": 700,
   "metadata": {},
   "outputs": [
    {
     "data": {
      "text/plain": [
       "(tensor([[[1, 2, 3],\n",
       "          [4, 5, 6],\n",
       "          [7, 8, 9]]]),\n",
       " torch.Size([1, 3, 3]))"
      ]
     },
     "execution_count": 700,
     "metadata": {},
     "output_type": "execute_result"
    }
   ],
   "source": [
    "# indexing\n",
    "x = torch.arange(1,10).reshape(1,3,3)\n",
    "x,x.shape"
   ]
  },
  {
   "cell_type": "code",
   "execution_count": 701,
   "metadata": {},
   "outputs": [
    {
     "data": {
      "text/plain": [
       "tensor([[1, 2, 3],\n",
       "        [4, 5, 6],\n",
       "        [7, 8, 9]])"
      ]
     },
     "execution_count": 701,
     "metadata": {},
     "output_type": "execute_result"
    }
   ],
   "source": [
    "x[0]"
   ]
  },
  {
   "cell_type": "code",
   "execution_count": 702,
   "metadata": {},
   "outputs": [
    {
     "data": {
      "text/plain": [
       "tensor([1, 2, 3])"
      ]
     },
     "execution_count": 702,
     "metadata": {},
     "output_type": "execute_result"
    }
   ],
   "source": [
    "x[0][0]"
   ]
  },
  {
   "cell_type": "code",
   "execution_count": 703,
   "metadata": {},
   "outputs": [
    {
     "data": {
      "text/plain": [
       "tensor(9)"
      ]
     },
     "execution_count": 703,
     "metadata": {},
     "output_type": "execute_result"
    }
   ],
   "source": [
    "x[0][2][2]"
   ]
  },
  {
   "cell_type": "markdown",
   "metadata": {},
   "source": [
    "Torch and NUMPY"
   ]
  },
  {
   "cell_type": "code",
   "execution_count": 704,
   "metadata": {},
   "outputs": [
    {
     "data": {
      "text/plain": [
       "(array([1., 2., 3., 4., 5., 6., 7.]),\n",
       " tensor([1., 2., 3., 4., 5., 6., 7.], dtype=torch.float64))"
      ]
     },
     "execution_count": 704,
     "metadata": {},
     "output_type": "execute_result"
    }
   ],
   "source": [
    "import numpy as np\n",
    "array = np.arange(1.,8.)\n",
    "tensor = torch.from_numpy(array)\n",
    "array, tensor\n",
    "# when we convert tensor dtype is float64 its because default of numpy\n",
    "#if you wanna change dtype ,run as below\n",
    "#tensor=torch.from_numpy(array).type(torch.float32)\n",
    "#during coversion ,they donr share memory , if you change value in np_array it wont effect tensor"
   ]
  },
  {
   "cell_type": "markdown",
   "metadata": {},
   "source": [
    "Reproducbility//reduce randomness\n",
    "\n",
    "..reandom seed\n"
   ]
  },
  {
   "cell_type": "code",
   "execution_count": 705,
   "metadata": {},
   "outputs": [
    {
     "name": "stdout",
     "output_type": "stream",
     "text": [
      "tensor([[0.3180, 0.9462, 0.2292, 0.3670],\n",
      "        [0.1667, 0.7490, 0.3919, 0.9136],\n",
      "        [0.5384, 0.8029, 0.6793, 0.2663]])\n",
      "tensor([[0.5063, 0.0150, 0.9528, 0.6405],\n",
      "        [0.7250, 0.6003, 0.6683, 0.1815],\n",
      "        [0.6204, 0.8131, 0.0921, 0.3190]])\n"
     ]
    }
   ],
   "source": [
    "random_a=torch.rand(3,4)\n",
    "random_b = torch.rand(3,4)\n",
    "print(random_a)\n",
    "print(random_b)"
   ]
  },
  {
   "cell_type": "code",
   "execution_count": 706,
   "metadata": {},
   "outputs": [
    {
     "name": "stdout",
     "output_type": "stream",
     "text": [
      "tensor([[0.8823, 0.9150, 0.3829, 0.9593],\n",
      "        [0.3904, 0.6009, 0.2566, 0.7936],\n",
      "        [0.9408, 0.1332, 0.9346, 0.5936]])\n",
      "tensor([[0.8823, 0.9150, 0.3829, 0.9593],\n",
      "        [0.3904, 0.6009, 0.2566, 0.7936],\n",
      "        [0.9408, 0.1332, 0.9346, 0.5936]])\n",
      "tensor([[True, True, True, True],\n",
      "        [True, True, True, True],\n",
      "        [True, True, True, True]])\n"
     ]
    }
   ],
   "source": [
    "random_seed=42\n",
    "torch.manual_seed(random_seed)\n",
    "\n",
    "random_c=torch.rand(3,4)\n",
    "torch.manual_seed(random_seed)\n",
    "\n",
    "random_d = torch.rand(3,4)\n",
    "print(random_c)\n",
    "print(random_d)\n",
    "print(random_c==random_d)"
   ]
  },
  {
   "cell_type": "code",
   "execution_count": 707,
   "metadata": {},
   "outputs": [
    {
     "name": "stdout",
     "output_type": "stream",
     "text": [
      "Tue Oct 17 01:40:24 2023       \n",
      "+---------------------------------------------------------------------------------------+\n",
      "| NVIDIA-SMI 535.98                 Driver Version: 535.98       CUDA Version: 12.2     |\n",
      "|-----------------------------------------+----------------------+----------------------+\n",
      "| GPU  Name                     TCC/WDDM  | Bus-Id        Disp.A | Volatile Uncorr. ECC |\n",
      "| Fan  Temp   Perf          Pwr:Usage/Cap |         Memory-Usage | GPU-Util  Compute M. |\n",
      "|                                         |                      |               MIG M. |\n",
      "|=========================================+======================+======================|\n",
      "|   0  NVIDIA GeForce RTX 3060 ...  WDDM  | 00000000:01:00.0  On |                  N/A |\n",
      "| N/A   41C    P8              13W / 140W |   2085MiB /  6144MiB |     14%      Default |\n",
      "|                                         |                      |                  N/A |\n",
      "+-----------------------------------------+----------------------+----------------------+\n",
      "                                                                                         \n",
      "+---------------------------------------------------------------------------------------+\n",
      "| Processes:                                                                            |\n",
      "|  GPU   GI   CI        PID   Type   Process name                            GPU Memory |\n",
      "|        ID   ID                                                             Usage      |\n",
      "|=======================================================================================|\n",
      "|    0   N/A  N/A      6948    C+G   ...5n1h2txyewy\\ShellExperienceHost.exe    N/A      |\n",
      "|    0   N/A  N/A      8292    C+G   C:\\Windows\\explorer.exe                   N/A      |\n",
      "|    0   N/A  N/A     12612    C+G   ...osoft Office\\root\\Office16\\lync.exe    N/A      |\n",
      "|    0   N/A  N/A     13528    C+G   ...m Files\\Mozilla Firefox\\firefox.exe    N/A      |\n",
      "|    0   N/A  N/A     14168    C+G   ....0_x64__8wekyb3d8bbwe\\HxOutlook.exe    N/A      |\n",
      "|    0   N/A  N/A     14636    C+G   ...72.0_x64__8wekyb3d8bbwe\\GameBar.exe    N/A      |\n",
      "|    0   N/A  N/A     15396    C+G   ...nt.CBS_cw5n1h2txyewy\\SearchHost.exe    N/A      |\n",
      "|    0   N/A  N/A     15524    C+G   ...m Files\\Mozilla Firefox\\firefox.exe    N/A      |\n",
      "|    0   N/A  N/A     16088    C+G   ...Programs\\Microsoft VS Code\\Code.exe    N/A      |\n",
      "|    0   N/A  N/A     17412    C+G   ...siveControlPanel\\SystemSettings.exe    N/A      |\n",
      "|    0   N/A  N/A     17616    C+G   ...t.LockApp_cw5n1h2txyewy\\LockApp.exe    N/A      |\n",
      "|    0   N/A  N/A     20340    C+G   ...CBS_cw5n1h2txyewy\\TextInputHost.exe    N/A      |\n",
      "|    0   N/A  N/A     23100    C+G   ...GeForce Experience\\NVIDIA Share.exe    N/A      |\n",
      "|    0   N/A  N/A     23908    C+G   ...2txyewy\\StartMenuExperienceHost.exe    N/A      |\n",
      "|    0   N/A  N/A     23964      C   C:\\Program Files\\Python311\\python.exe     N/A      |\n",
      "+---------------------------------------------------------------------------------------+\n"
     ]
    }
   ],
   "source": [
    "#running tensors and pytorch objects on the GPU\n",
    "!nvidia-smi\n"
   ]
  },
  {
   "cell_type": "code",
   "execution_count": 708,
   "metadata": {},
   "outputs": [
    {
     "data": {
      "text/plain": [
       "True"
      ]
     },
     "execution_count": 708,
     "metadata": {},
     "output_type": "execute_result"
    }
   ],
   "source": [
    "torch.cuda.is_available()"
   ]
  },
  {
   "cell_type": "code",
   "execution_count": 709,
   "metadata": {},
   "outputs": [
    {
     "data": {
      "text/plain": [
       "'cuda'"
      ]
     },
     "execution_count": 709,
     "metadata": {},
     "output_type": "execute_result"
    }
   ],
   "source": [
    "#setup device code\n",
    "device = \"cuda\" if torch.cuda.is_available() else \"cpu\"\n",
    "device"
   ]
  },
  {
   "cell_type": "code",
   "execution_count": 710,
   "metadata": {},
   "outputs": [
    {
     "data": {
      "text/plain": [
       "1"
      ]
     },
     "execution_count": 710,
     "metadata": {},
     "output_type": "execute_result"
    }
   ],
   "source": [
    "torch.cuda.device_count()"
   ]
  },
  {
   "cell_type": "code",
   "execution_count": 711,
   "metadata": {},
   "outputs": [
    {
     "name": "stdout",
     "output_type": "stream",
     "text": [
      "tensor([1, 2, 3]) cpu\n"
     ]
    }
   ],
   "source": [
    "tensor= torch.tensor([1,2,3],device=\"cpu\")\n",
    "print(tensor, tensor.device)"
   ]
  },
  {
   "cell_type": "code",
   "execution_count": 712,
   "metadata": {},
   "outputs": [
    {
     "data": {
      "text/plain": [
       "tensor([1, 2, 3], device='cuda:0')"
      ]
     },
     "execution_count": 712,
     "metadata": {},
     "output_type": "execute_result"
    }
   ],
   "source": [
    "tensor_on_gpu = tensor.to(device)\n",
    "tensor_on_gpu\n",
    "\n",
    "#numpy does not work on gpu , tensor_on_gpu.cpu().numpy()"
   ]
  },
  {
   "cell_type": "markdown",
   "metadata": {},
   "source": [
    "Pytorch Workflow"
   ]
  },
  {
   "cell_type": "code",
   "execution_count": 713,
   "metadata": {},
   "outputs": [
    {
     "data": {
      "text/plain": [
       "{1: 'Perpare data and load',\n",
       " 2: 'build model',\n",
       " 3: 'fitting the model to data (training)',\n",
       " 4: 'make prediction and evaluation',\n",
       " 5: 'save and load model',\n",
       " 6: 'putting it all together'}"
      ]
     },
     "execution_count": 713,
     "metadata": {},
     "output_type": "execute_result"
    }
   ],
   "source": [
    "what_its_cover = {1: \"Perpare data and load\",\n",
    "                  2: \"build model\",\n",
    "                  3: \"fitting the model to data (training)\",\n",
    "                  4: \"make prediction and evaluation\",\n",
    "                  5: \"save and load model\",\n",
    "                  6: \"putting it all together\"}\n",
    "what_its_cover"
   ]
  },
  {
   "cell_type": "code",
   "execution_count": 714,
   "metadata": {},
   "outputs": [
    {
     "data": {
      "text/plain": [
       "'2.1.0.dev20230424+cu118'"
      ]
     },
     "execution_count": 714,
     "metadata": {},
     "output_type": "execute_result"
    }
   ],
   "source": [
    "from torch import nn\n",
    "import matplotlib.pyplot as plt\n",
    "\n",
    "torch.__version__"
   ]
  },
  {
   "cell_type": "code",
   "execution_count": 715,
   "metadata": {},
   "outputs": [
    {
     "data": {
      "text/plain": [
       "(tensor([[0.0000],\n",
       "         [0.0200],\n",
       "         [0.0400],\n",
       "         [0.0600],\n",
       "         [0.0800],\n",
       "         [0.1000],\n",
       "         [0.1200],\n",
       "         [0.1400],\n",
       "         [0.1600],\n",
       "         [0.1800]]),\n",
       " tensor([[0.3000],\n",
       "         [0.3140],\n",
       "         [0.3280],\n",
       "         [0.3420],\n",
       "         [0.3560],\n",
       "         [0.3700],\n",
       "         [0.3840],\n",
       "         [0.3980],\n",
       "         [0.4120],\n",
       "         [0.4260]]))"
      ]
     },
     "execution_count": 715,
     "metadata": {},
     "output_type": "execute_result"
    }
   ],
   "source": [
    "#prepare data and load\n",
    "w = 0.7\n",
    "bias = 0.3\n",
    "\n",
    "start = 0\n",
    "end =2\n",
    "step = 0.02\n",
    "X= torch.arange(start,end,step).unsqueeze(dim=1)\n",
    "\n",
    "#we implement linear regression,we know w and bias but we create model to estimate it\n",
    "y = w*X+bias\n",
    "\n",
    "X[:10],y[:10]"
   ]
  },
  {
   "cell_type": "code",
   "execution_count": 716,
   "metadata": {},
   "outputs": [],
   "source": [
    "# splitting into training and test\n",
    "\n",
    "train_split = int(0.8 * len(X))\n",
    "X_train,y_train =X[:train_split],y[:train_split]\n",
    "X_test,y_test = X[train_split:],y[train_split:]\n",
    "\n"
   ]
  },
  {
   "cell_type": "code",
   "execution_count": 717,
   "metadata": {},
   "outputs": [],
   "source": [
    "#lets visualize it\n",
    "\n",
    "def plot_predictions(train_data = X_train,\n",
    "                     train_labels=y_train,\n",
    "                     test_data=X_test,\n",
    "                     test_labels = y_test,\n",
    "                     predictions=None):\n",
    "    plt.figure(figsize=(10,7))\n",
    "    #plot  training data in blue\n",
    "    plt.scatter(train_data,train_labels,c='b',s=4, label=\"Training data\")\n",
    "    #plot test data in green\n",
    "    plt.scatter(test_data,test_labels,c=\"g\",s=5,label=\"testing data\")\n",
    "\n",
    "    #lets check if there is prediction\n",
    "    if predictions is not None:\n",
    "        plt.scatter(test_data,predictions,c='r',s=4,label=\"Prediction\")\n",
    "    \n",
    "    plt.legend(prop={\"size\":14})"
   ]
  },
  {
   "cell_type": "code",
   "execution_count": 718,
   "metadata": {},
   "outputs": [
    {
     "data": {
      "image/png": "[encoded data removed]",
      "text/plain": [
       "<Figure size 1000x700 with 1 Axes>"
      ]
     },
     "metadata": {},
     "output_type": "display_data"
    }
   ],
   "source": [
    "plot_predictions()"
   ]
  },
  {
   "cell_type": "code",
   "execution_count": 719,
   "metadata": {},
   "outputs": [],
   "source": [
    "#build a model\n",
    "\n",
    "class LinearRegressionModel(nn.Module):\n",
    "    def __init__(self):\n",
    "        super().__init__()\n",
    "        self.weights = nn.Parameter(torch.rand(1,#random weifghs\n",
    "                                         requires_grad=True,#update with gradient descent\n",
    "                                         dtype=torch.float))#pytorch love float32\n",
    "        self.biass = nn.Parameter(torch.rand(1,\n",
    "                                            requires_grad=True,\n",
    "                                            dtype=torch.float))\n",
    "    #define coputation in the model\n",
    "    def forward(self,x:torch.Tensor)->torch.Tensor:\n",
    "        return self.weights*x + self.biass\n"
   ]
  },
  {
   "cell_type": "markdown",
   "metadata": {},
   "source": [
    "###PyTorch model building essentials\n",
    "\n",
    "* torch.nn - contains all of the building for computational graphs\n",
    "* torch.nn.Parameter - what parameters should our model try and learn, often a pyTroch layer from troch.nn will set these for us\n",
    "* torch.nn.Module - the base class for all neural networks modules,if you subclass it, you should overwrite forward()\n",
    "* torch.optim - this where the optimizers inPytorch live, they will help with gradient descent"
   ]
  },
  {
   "cell_type": "code",
   "execution_count": 720,
   "metadata": {},
   "outputs": [
    {
     "data": {
      "text/plain": [
       "OrderedDict([('weights', tensor([0.8823])), ('biass', tensor([0.9150]))])"
      ]
     },
     "execution_count": 720,
     "metadata": {},
     "output_type": "execute_result"
    }
   ],
   "source": [
    "torch.manual_seed(42)\n",
    "model_0 = LinearRegressionModel()\n",
    "\n",
    "list(model_0.parameters())\n",
    "model_0.state_dict()"
   ]
  },
  {
   "cell_type": "code",
   "execution_count": 721,
   "metadata": {},
   "outputs": [
    {
     "data": {
      "text/plain": [
       "tensor([[2.3266],\n",
       "        [2.3443],\n",
       "        [2.3619],\n",
       "        [2.3796],\n",
       "        [2.3972],\n",
       "        [2.4149],\n",
       "        [2.4325],\n",
       "        [2.4502],\n",
       "        [2.4678],\n",
       "        [2.4854],\n",
       "        [2.5031],\n",
       "        [2.5207],\n",
       "        [2.5384],\n",
       "        [2.5560],\n",
       "        [2.5737],\n",
       "        [2.5913],\n",
       "        [2.6090],\n",
       "        [2.6266],\n",
       "        [2.6443],\n",
       "        [2.6619]])"
      ]
     },
     "execution_count": 721,
     "metadata": {},
     "output_type": "execute_result"
    }
   ],
   "source": [
    "#make prediction torch.inference_mmode()\n",
    "with torch.inference_mode():\n",
    "    y_preds = model_0(X_test)\n",
    "\n",
    "y_preds"
   ]
  },
  {
   "cell_type": "code",
   "execution_count": 722,
   "metadata": {},
   "outputs": [
    {
     "data": {
      "image/png": "[encoded data removed]",
      "text/plain": [
       "<Figure size 1000x700 with 1 Axes>"
      ]
     },
     "metadata": {},
     "output_type": "display_data"
    }
   ],
   "source": [
    "plot_predictions(predictions=y_preds)"
   ]
  },
  {
   "cell_type": "markdown",
   "metadata": {},
   "source": []
  },
  {
   "cell_type": "code",
   "execution_count": 723,
   "metadata": {},
   "outputs": [],
   "source": [
    "#loss function\n",
    "loss_fn=nn.L1Loss()\n",
    "#optimizer\n",
    "optmizer = torch.optim.SGD(params=model_0.parameters(),lr=0.001)\n",
    "\n",
    "\n",
    "\n"
   ]
  },
  {
   "cell_type": "code",
   "execution_count": 724,
   "metadata": {},
   "outputs": [
    {
     "name": "stdout",
     "output_type": "stream",
     "text": [
      "Epoch : 0, Loss: 0.7589966654777527, Test loss: 0.9388518333435059\n",
      "OrderedDict([('weights', tensor([0.8815])), ('biass', tensor([0.9140]))])\n",
      "Epoch : 1, Loss: 0.7573725581169128, Test loss: 0.936437726020813\n",
      "Epoch : 2, Loss: 0.7557485103607178, Test loss: 0.9340237379074097\n",
      "Epoch : 3, Loss: 0.7541244626045227, Test loss: 0.9316096305847168\n",
      "Epoch : 4, Loss: 0.7525003552436829, Test loss: 0.9291955232620239\n",
      "Epoch : 5, Loss: 0.7508763074874878, Test loss: 0.9267812967300415\n",
      "Epoch : 6, Loss: 0.7492521405220032, Test loss: 0.9243673086166382\n",
      "Epoch : 7, Loss: 0.7476280927658081, Test loss: 0.9219532012939453\n",
      "Epoch : 8, Loss: 0.7460039854049683, Test loss: 0.9195391535758972\n",
      "Epoch : 9, Loss: 0.7443798780441284, Test loss: 0.9171251058578491\n",
      "Epoch : 10, Loss: 0.7427558302879333, Test loss: 0.9147109985351562\n",
      "OrderedDict([('weights', tensor([0.8736])), ('biass', tensor([0.9040]))])\n",
      "Epoch : 11, Loss: 0.7411317229270935, Test loss: 0.9122968912124634\n",
      "Epoch : 12, Loss: 0.7395076751708984, Test loss: 0.9098828434944153\n",
      "Epoch : 13, Loss: 0.7378835678100586, Test loss: 0.9074686765670776\n",
      "Epoch : 14, Loss: 0.7362594604492188, Test loss: 0.9050546884536743\n",
      "Epoch : 15, Loss: 0.7346354126930237, Test loss: 0.9026405215263367\n",
      "Epoch : 16, Loss: 0.7330113053321838, Test loss: 0.9002264738082886\n",
      "Epoch : 17, Loss: 0.7313872575759888, Test loss: 0.8978123664855957\n",
      "Epoch : 18, Loss: 0.7297631502151489, Test loss: 0.8953983187675476\n",
      "Epoch : 19, Loss: 0.7281390428543091, Test loss: 0.8929842114448547\n",
      "Epoch : 20, Loss: 0.726514995098114, Test loss: 0.8905700445175171\n",
      "OrderedDict([('weights', tensor([0.8657])), ('biass', tensor([0.8940]))])\n",
      "Epoch : 21, Loss: 0.7248908877372742, Test loss: 0.8881559371948242\n",
      "Epoch : 22, Loss: 0.7232667803764343, Test loss: 0.8857418894767761\n",
      "Epoch : 23, Loss: 0.7216426134109497, Test loss: 0.883327841758728\n",
      "Epoch : 24, Loss: 0.7200186252593994, Test loss: 0.8809138536453247\n",
      "Epoch : 25, Loss: 0.7183944582939148, Test loss: 0.8784996867179871\n",
      "Epoch : 26, Loss: 0.7167704105377197, Test loss: 0.8760855793952942\n",
      "Epoch : 27, Loss: 0.7151463627815247, Test loss: 0.8736714124679565\n",
      "Epoch : 28, Loss: 0.7135222554206848, Test loss: 0.871257483959198\n",
      "Epoch : 29, Loss: 0.7118982076644897, Test loss: 0.8688432574272156\n",
      "Epoch : 30, Loss: 0.7102740406990051, Test loss: 0.8664292097091675\n",
      "OrderedDict([('weights', tensor([0.8578])), ('biass', tensor([0.8840]))])\n",
      "Epoch : 31, Loss: 0.7086499929428101, Test loss: 0.8640152215957642\n",
      "Epoch : 32, Loss: 0.7070258855819702, Test loss: 0.8616010546684265\n",
      "Epoch : 33, Loss: 0.7054017782211304, Test loss: 0.8591869473457336\n",
      "Epoch : 34, Loss: 0.7037776708602905, Test loss: 0.8567730188369751\n",
      "Epoch : 35, Loss: 0.7021535634994507, Test loss: 0.8543587923049927\n",
      "Epoch : 36, Loss: 0.7005295753479004, Test loss: 0.8519447445869446\n",
      "Epoch : 37, Loss: 0.698905348777771, Test loss: 0.8495306968688965\n",
      "Epoch : 38, Loss: 0.6972813606262207, Test loss: 0.8471165895462036\n",
      "Epoch : 39, Loss: 0.6956573128700256, Test loss: 0.8447025418281555\n",
      "Epoch : 40, Loss: 0.694033145904541, Test loss: 0.8422883749008179\n",
      "OrderedDict([('weights', tensor([0.8499])), ('biass', tensor([0.8740]))])\n",
      "Epoch : 41, Loss: 0.6924091577529907, Test loss: 0.839874267578125\n",
      "Epoch : 42, Loss: 0.6907850503921509, Test loss: 0.8374602198600769\n",
      "Epoch : 43, Loss: 0.689160943031311, Test loss: 0.835046112537384\n",
      "Epoch : 44, Loss: 0.6875368356704712, Test loss: 0.8326320648193359\n",
      "Epoch : 45, Loss: 0.6859127283096313, Test loss: 0.8302180171012878\n",
      "Epoch : 46, Loss: 0.6842886805534363, Test loss: 0.827803909778595\n",
      "Epoch : 47, Loss: 0.6826645731925964, Test loss: 0.8253897428512573\n",
      "Epoch : 48, Loss: 0.6810404658317566, Test loss: 0.822975754737854\n",
      "Epoch : 49, Loss: 0.6794163584709167, Test loss: 0.8205615878105164\n",
      "Epoch : 50, Loss: 0.6777923107147217, Test loss: 0.8181474804878235\n",
      "OrderedDict([('weights', tensor([0.8420])), ('biass', tensor([0.8640]))])\n",
      "Epoch : 51, Loss: 0.6761682629585266, Test loss: 0.8157333135604858\n",
      "Epoch : 52, Loss: 0.6745441555976868, Test loss: 0.8133193850517273\n",
      "Epoch : 53, Loss: 0.6729200482368469, Test loss: 0.8109053373336792\n",
      "Epoch : 54, Loss: 0.6712960004806519, Test loss: 0.8084911108016968\n",
      "Epoch : 55, Loss: 0.669671893119812, Test loss: 0.8060771226882935\n",
      "Epoch : 56, Loss: 0.6680477857589722, Test loss: 0.8036630749702454\n",
      "Epoch : 57, Loss: 0.6664236783981323, Test loss: 0.8012489080429077\n",
      "Epoch : 58, Loss: 0.6647996306419373, Test loss: 0.7988347411155701\n",
      "Epoch : 59, Loss: 0.6631754636764526, Test loss: 0.796420693397522\n",
      "Epoch : 60, Loss: 0.6615514159202576, Test loss: 0.7940066456794739\n",
      "OrderedDict([('weights', tensor([0.8341])), ('biass', tensor([0.8540]))])\n",
      "Epoch : 61, Loss: 0.6599273681640625, Test loss: 0.7915925979614258\n",
      "Epoch : 62, Loss: 0.6583032608032227, Test loss: 0.7891784906387329\n",
      "Epoch : 63, Loss: 0.6566791534423828, Test loss: 0.7867643237113953\n",
      "Epoch : 64, Loss: 0.6550551652908325, Test loss: 0.7843502759933472\n",
      "Epoch : 65, Loss: 0.6534309983253479, Test loss: 0.7819361686706543\n",
      "Epoch : 66, Loss: 0.6518069505691528, Test loss: 0.7795221209526062\n",
      "Epoch : 67, Loss: 0.650182843208313, Test loss: 0.7771080732345581\n",
      "Epoch : 68, Loss: 0.6485587358474731, Test loss: 0.7746939659118652\n",
      "Epoch : 69, Loss: 0.6469346284866333, Test loss: 0.7722798585891724\n",
      "Epoch : 70, Loss: 0.6453105807304382, Test loss: 0.7698657512664795\n",
      "OrderedDict([('weights', tensor([0.8262])), ('biass', tensor([0.8440]))])\n",
      "Epoch : 71, Loss: 0.6436865329742432, Test loss: 0.7674516439437866\n",
      "Epoch : 72, Loss: 0.6420623660087585, Test loss: 0.7650376558303833\n",
      "Epoch : 73, Loss: 0.6404383182525635, Test loss: 0.7626234889030457\n",
      "Epoch : 74, Loss: 0.6388142108917236, Test loss: 0.7602093815803528\n",
      "Epoch : 75, Loss: 0.6371901631355286, Test loss: 0.7577953338623047\n",
      "Epoch : 76, Loss: 0.6355660557746887, Test loss: 0.7553812861442566\n",
      "Epoch : 77, Loss: 0.6339419484138489, Test loss: 0.7529671788215637\n",
      "Epoch : 78, Loss: 0.632317841053009, Test loss: 0.7505531907081604\n",
      "Epoch : 79, Loss: 0.630693793296814, Test loss: 0.7481390237808228\n",
      "Epoch : 80, Loss: 0.6290697455406189, Test loss: 0.7457249164581299\n",
      "OrderedDict([('weights', tensor([0.8183])), ('biass', tensor([0.8340]))])\n",
      "Epoch : 81, Loss: 0.6274455785751343, Test loss: 0.743310809135437\n",
      "Epoch : 82, Loss: 0.6258214712142944, Test loss: 0.7408967018127441\n",
      "Epoch : 83, Loss: 0.6241974830627441, Test loss: 0.738482654094696\n",
      "Epoch : 84, Loss: 0.6225733160972595, Test loss: 0.7360685467720032\n",
      "Epoch : 85, Loss: 0.6209492683410645, Test loss: 0.7336544990539551\n",
      "Epoch : 86, Loss: 0.6193251609802246, Test loss: 0.7312403917312622\n",
      "Epoch : 87, Loss: 0.6177010536193848, Test loss: 0.7288262844085693\n",
      "Epoch : 88, Loss: 0.6160769462585449, Test loss: 0.7264121770858765\n",
      "Epoch : 89, Loss: 0.6144528985023499, Test loss: 0.7239980697631836\n",
      "Epoch : 90, Loss: 0.6128288507461548, Test loss: 0.7215840220451355\n",
      "OrderedDict([('weights', tensor([0.8104])), ('biass', tensor([0.8240]))])\n",
      "Epoch : 91, Loss: 0.6112047433853149, Test loss: 0.7191699147224426\n",
      "Epoch : 92, Loss: 0.6095806360244751, Test loss: 0.7167558670043945\n",
      "Epoch : 93, Loss: 0.6079565286636353, Test loss: 0.7143417596817017\n",
      "Epoch : 94, Loss: 0.6063324213027954, Test loss: 0.7119276523590088\n",
      "Epoch : 95, Loss: 0.6047083735466003, Test loss: 0.7095136046409607\n",
      "Epoch : 96, Loss: 0.6030842661857605, Test loss: 0.7070995569229126\n",
      "Epoch : 97, Loss: 0.6014602184295654, Test loss: 0.7046854496002197\n",
      "Epoch : 98, Loss: 0.5998361110687256, Test loss: 0.7022713422775269\n",
      "Epoch : 99, Loss: 0.5982120633125305, Test loss: 0.699857234954834\n",
      "Epoch : 100, Loss: 0.5965880155563354, Test loss: 0.6974431872367859\n",
      "OrderedDict([('weights', tensor([0.8025])), ('biass', tensor([0.8140]))])\n",
      "Epoch : 101, Loss: 0.5949639081954956, Test loss: 0.695029079914093\n",
      "Epoch : 102, Loss: 0.5933398008346558, Test loss: 0.6926149725914001\n",
      "Epoch : 103, Loss: 0.5917156338691711, Test loss: 0.690200924873352\n",
      "Epoch : 104, Loss: 0.5900915861129761, Test loss: 0.6877867579460144\n",
      "Epoch : 105, Loss: 0.5884674787521362, Test loss: 0.6853727102279663\n",
      "Epoch : 106, Loss: 0.5868433713912964, Test loss: 0.6829586029052734\n",
      "Epoch : 107, Loss: 0.5852193236351013, Test loss: 0.6805445551872253\n",
      "Epoch : 108, Loss: 0.5835952162742615, Test loss: 0.6781304478645325\n",
      "Epoch : 109, Loss: 0.5819711685180664, Test loss: 0.6757163405418396\n",
      "Epoch : 110, Loss: 0.5803470611572266, Test loss: 0.6733023524284363\n",
      "OrderedDict([('weights', tensor([0.7946])), ('biass', tensor([0.8040]))])\n",
      "Epoch : 111, Loss: 0.5787230134010315, Test loss: 0.6708881855010986\n",
      "Epoch : 112, Loss: 0.5770989060401917, Test loss: 0.6684741377830505\n",
      "Epoch : 113, Loss: 0.5754748582839966, Test loss: 0.6660600304603577\n",
      "Epoch : 114, Loss: 0.5738507509231567, Test loss: 0.6636459231376648\n",
      "Epoch : 115, Loss: 0.5722266435623169, Test loss: 0.6612318158149719\n",
      "Epoch : 116, Loss: 0.570602536201477, Test loss: 0.6588177680969238\n",
      "Epoch : 117, Loss: 0.568978488445282, Test loss: 0.6564037203788757\n",
      "Epoch : 118, Loss: 0.5673543810844421, Test loss: 0.6539896726608276\n",
      "Epoch : 119, Loss: 0.5657302737236023, Test loss: 0.65157550573349\n",
      "Epoch : 120, Loss: 0.5641061663627625, Test loss: 0.6491613984107971\n",
      "OrderedDict([('weights', tensor([0.7867])), ('biass', tensor([0.7940]))])\n",
      "Epoch : 121, Loss: 0.5624821186065674, Test loss: 0.6467472910881042\n",
      "Epoch : 122, Loss: 0.5608579516410828, Test loss: 0.6443332433700562\n",
      "Epoch : 123, Loss: 0.5592339038848877, Test loss: 0.6419191956520081\n",
      "Epoch : 124, Loss: 0.5576099157333374, Test loss: 0.6395050287246704\n",
      "Epoch : 125, Loss: 0.5559858083724976, Test loss: 0.6370910406112671\n",
      "Epoch : 126, Loss: 0.5543617010116577, Test loss: 0.6346769332885742\n",
      "Epoch : 127, Loss: 0.5527375340461731, Test loss: 0.6322628259658813\n",
      "Epoch : 128, Loss: 0.551113486289978, Test loss: 0.6298487782478333\n",
      "Epoch : 129, Loss: 0.5494893789291382, Test loss: 0.6274346113204956\n",
      "Epoch : 130, Loss: 0.5478653311729431, Test loss: 0.6250206232070923\n",
      "OrderedDict([('weights', tensor([0.7788])), ('biass', tensor([0.7840]))])\n",
      "Epoch : 131, Loss: 0.5462412238121033, Test loss: 0.6226064562797546\n",
      "Epoch : 132, Loss: 0.5446171760559082, Test loss: 0.6201923489570618\n",
      "Epoch : 133, Loss: 0.5429930686950684, Test loss: 0.6177783012390137\n",
      "Epoch : 134, Loss: 0.5413690209388733, Test loss: 0.6153641939163208\n",
      "Epoch : 135, Loss: 0.5397449135780334, Test loss: 0.6129501461982727\n",
      "Epoch : 136, Loss: 0.5381208658218384, Test loss: 0.6105360388755798\n",
      "Epoch : 137, Loss: 0.5364967584609985, Test loss: 0.608121931552887\n",
      "Epoch : 138, Loss: 0.5348726511001587, Test loss: 0.6057078242301941\n",
      "Epoch : 139, Loss: 0.5332485437393188, Test loss: 0.603293776512146\n",
      "Epoch : 140, Loss: 0.531624436378479, Test loss: 0.6008797883987427\n",
      "OrderedDict([('weights', tensor([0.7709])), ('biass', tensor([0.7740]))])\n",
      "Epoch : 141, Loss: 0.5300003290176392, Test loss: 0.5984656810760498\n",
      "Epoch : 142, Loss: 0.5283762812614441, Test loss: 0.5960515141487122\n",
      "Epoch : 143, Loss: 0.526752233505249, Test loss: 0.5936373472213745\n",
      "Epoch : 144, Loss: 0.525128185749054, Test loss: 0.5912232995033264\n",
      "Epoch : 145, Loss: 0.5235040187835693, Test loss: 0.5888091921806335\n",
      "Epoch : 146, Loss: 0.521880030632019, Test loss: 0.5863952040672302\n",
      "Epoch : 147, Loss: 0.5202558636665344, Test loss: 0.5839811563491821\n",
      "Epoch : 148, Loss: 0.5186318159103394, Test loss: 0.5815669298171997\n",
      "Epoch : 149, Loss: 0.5170077085494995, Test loss: 0.5791529417037964\n",
      "Epoch : 150, Loss: 0.5153836011886597, Test loss: 0.5767388343811035\n",
      "OrderedDict([('weights', tensor([0.7630])), ('biass', tensor([0.7640]))])\n",
      "Epoch : 151, Loss: 0.5137595534324646, Test loss: 0.5743246674537659\n",
      "Epoch : 152, Loss: 0.51213538646698, Test loss: 0.5719106793403625\n",
      "Epoch : 153, Loss: 0.5105113387107849, Test loss: 0.5694965124130249\n",
      "Epoch : 154, Loss: 0.5088872313499451, Test loss: 0.5670825242996216\n",
      "Epoch : 155, Loss: 0.50726318359375, Test loss: 0.5646684765815735\n",
      "Epoch : 156, Loss: 0.5056390762329102, Test loss: 0.5622543096542358\n",
      "Epoch : 157, Loss: 0.5040150284767151, Test loss: 0.559840202331543\n",
      "Epoch : 158, Loss: 0.50239098072052, Test loss: 0.5574260950088501\n",
      "Epoch : 159, Loss: 0.5007668137550354, Test loss: 0.5550119876861572\n",
      "Epoch : 160, Loss: 0.49914273619651794, Test loss: 0.5525979399681091\n",
      "OrderedDict([('weights', tensor([0.7551])), ('biass', tensor([0.7540]))])\n",
      "Epoch : 161, Loss: 0.4975186288356781, Test loss: 0.550183892250061\n",
      "Epoch : 162, Loss: 0.49589458107948303, Test loss: 0.5477697253227234\n",
      "Epoch : 163, Loss: 0.4942705035209656, Test loss: 0.5453556776046753\n",
      "Epoch : 164, Loss: 0.49264639616012573, Test loss: 0.5429415702819824\n",
      "Epoch : 165, Loss: 0.4910222887992859, Test loss: 0.5405275225639343\n",
      "Epoch : 166, Loss: 0.48939818143844604, Test loss: 0.5381134748458862\n",
      "Epoch : 167, Loss: 0.487774133682251, Test loss: 0.5356993675231934\n",
      "Epoch : 168, Loss: 0.4861500859260559, Test loss: 0.5332852602005005\n",
      "Epoch : 169, Loss: 0.48452597856521606, Test loss: 0.5308712124824524\n",
      "Epoch : 170, Loss: 0.4829019010066986, Test loss: 0.52845698595047\n",
      "OrderedDict([('weights', tensor([0.7472])), ('biass', tensor([0.7440]))])\n",
      "Epoch : 171, Loss: 0.48127779364585876, Test loss: 0.5260429382324219\n",
      "Epoch : 172, Loss: 0.47965365648269653, Test loss: 0.5236288905143738\n",
      "Epoch : 173, Loss: 0.47802963852882385, Test loss: 0.5212147831916809\n",
      "Epoch : 174, Loss: 0.476405531167984, Test loss: 0.5188007354736328\n",
      "Epoch : 175, Loss: 0.47478145360946655, Test loss: 0.5163866281509399\n",
      "Epoch : 176, Loss: 0.4731573462486267, Test loss: 0.5139725208282471\n",
      "Epoch : 177, Loss: 0.47153323888778687, Test loss: 0.5115584135055542\n",
      "Epoch : 178, Loss: 0.4699091911315918, Test loss: 0.5091443657875061\n",
      "Epoch : 179, Loss: 0.4682850241661072, Test loss: 0.5067302584648132\n",
      "Epoch : 180, Loss: 0.4666610360145569, Test loss: 0.5043162107467651\n",
      "OrderedDict([('weights', tensor([0.7393])), ('biass', tensor([0.7340]))])\n",
      "Epoch : 181, Loss: 0.46503686904907227, Test loss: 0.501902163028717\n",
      "Epoch : 182, Loss: 0.4634128510951996, Test loss: 0.499487966299057\n",
      "Epoch : 183, Loss: 0.46178871393203735, Test loss: 0.4970739483833313\n",
      "Epoch : 184, Loss: 0.4601646363735199, Test loss: 0.49465981125831604\n",
      "Epoch : 185, Loss: 0.45854052901268005, Test loss: 0.49224573373794556\n",
      "Epoch : 186, Loss: 0.456916481256485, Test loss: 0.48983168601989746\n",
      "Epoch : 187, Loss: 0.45529240369796753, Test loss: 0.4874175488948822\n",
      "Epoch : 188, Loss: 0.4536682665348053, Test loss: 0.4850035309791565\n",
      "Epoch : 189, Loss: 0.4520442485809326, Test loss: 0.4825894236564636\n",
      "Epoch : 190, Loss: 0.450420081615448, Test loss: 0.48017534613609314\n",
      "OrderedDict([('weights', tensor([0.7314])), ('biass', tensor([0.7240]))])\n",
      "Epoch : 191, Loss: 0.4487960934638977, Test loss: 0.47776126861572266\n",
      "Epoch : 192, Loss: 0.44717198610305786, Test loss: 0.47534704208374023\n",
      "Epoch : 193, Loss: 0.445547878742218, Test loss: 0.4729331135749817\n",
      "Epoch : 194, Loss: 0.44392380118370056, Test loss: 0.47051897644996643\n",
      "Epoch : 195, Loss: 0.44229966402053833, Test loss: 0.46810489892959595\n",
      "Epoch : 196, Loss: 0.44067564606666565, Test loss: 0.4656907916069031\n",
      "Epoch : 197, Loss: 0.4390515387058258, Test loss: 0.4632767140865326\n",
      "Epoch : 198, Loss: 0.43742743134498596, Test loss: 0.4608626365661621\n",
      "Epoch : 199, Loss: 0.4358033239841461, Test loss: 0.45844849944114685\n",
      "Epoch : 200, Loss: 0.43417924642562866, Test loss: 0.45603448152542114\n",
      "OrderedDict([('weights', tensor([0.7235])), ('biass', tensor([0.7140]))])\n",
      "Epoch : 201, Loss: 0.4325551986694336, Test loss: 0.4536203444004059\n",
      "Epoch : 202, Loss: 0.43093109130859375, Test loss: 0.4512062966823578\n",
      "Epoch : 203, Loss: 0.4293069839477539, Test loss: 0.44879215955734253\n",
      "Epoch : 204, Loss: 0.42768293619155884, Test loss: 0.44637808203697205\n",
      "Epoch : 205, Loss: 0.426058828830719, Test loss: 0.44396400451660156\n",
      "Epoch : 206, Loss: 0.42443472146987915, Test loss: 0.44154995679855347\n",
      "Epoch : 207, Loss: 0.4228106439113617, Test loss: 0.4391358494758606\n",
      "Epoch : 208, Loss: 0.42118653655052185, Test loss: 0.4367218017578125\n",
      "Epoch : 209, Loss: 0.4195624887943268, Test loss: 0.43430766463279724\n",
      "Epoch : 210, Loss: 0.41793838143348694, Test loss: 0.43189358711242676\n",
      "OrderedDict([('weights', tensor([0.7156])), ('biass', tensor([0.7040]))])\n",
      "Epoch : 211, Loss: 0.4163143038749695, Test loss: 0.4294794499874115\n",
      "Epoch : 212, Loss: 0.41469019651412964, Test loss: 0.427065372467041\n",
      "Epoch : 213, Loss: 0.4130660891532898, Test loss: 0.4246513247489929\n",
      "Epoch : 214, Loss: 0.4114420413970947, Test loss: 0.42223721742630005\n",
      "Epoch : 215, Loss: 0.40981799364089966, Test loss: 0.41982316970825195\n",
      "Epoch : 216, Loss: 0.4081938862800598, Test loss: 0.4174090325832367\n",
      "Epoch : 217, Loss: 0.40656977891921997, Test loss: 0.414995014667511\n",
      "Epoch : 218, Loss: 0.4049456715583801, Test loss: 0.4125808775424957\n",
      "Epoch : 219, Loss: 0.40332159399986267, Test loss: 0.41016680002212524\n",
      "Epoch : 220, Loss: 0.4016975462436676, Test loss: 0.40775266289711\n",
      "OrderedDict([('weights', tensor([0.7077])), ('biass', tensor([0.6940]))])\n",
      "Epoch : 221, Loss: 0.40007343888282776, Test loss: 0.4053385853767395\n",
      "Epoch : 222, Loss: 0.3984493315219879, Test loss: 0.4029245972633362\n",
      "Epoch : 223, Loss: 0.39682525396347046, Test loss: 0.4005104899406433\n",
      "Epoch : 224, Loss: 0.3952011466026306, Test loss: 0.39809638261795044\n",
      "Epoch : 225, Loss: 0.39357706904411316, Test loss: 0.39568227529525757\n",
      "Epoch : 226, Loss: 0.3919529616832733, Test loss: 0.3932681679725647\n",
      "Epoch : 227, Loss: 0.39032888412475586, Test loss: 0.3908540904521942\n",
      "Epoch : 228, Loss: 0.3887048363685608, Test loss: 0.3884400427341461\n",
      "Epoch : 229, Loss: 0.38708072900772095, Test loss: 0.38602590560913086\n",
      "Epoch : 230, Loss: 0.3854566514492035, Test loss: 0.38361185789108276\n",
      "OrderedDict([('weights', tensor([0.6998])), ('biass', tensor([0.6840]))])\n",
      "Epoch : 231, Loss: 0.38383251428604126, Test loss: 0.3811977505683899\n",
      "Epoch : 232, Loss: 0.3822084367275238, Test loss: 0.378783643245697\n",
      "Epoch : 233, Loss: 0.38058438897132874, Test loss: 0.37636956572532654\n",
      "Epoch : 234, Loss: 0.3789602816104889, Test loss: 0.37395548820495605\n",
      "Epoch : 235, Loss: 0.37733620405197144, Test loss: 0.37154141068458557\n",
      "Epoch : 236, Loss: 0.375712126493454, Test loss: 0.3691273331642151\n",
      "Epoch : 237, Loss: 0.3740880489349365, Test loss: 0.3667132258415222\n",
      "Epoch : 238, Loss: 0.3724639415740967, Test loss: 0.36429911851882935\n",
      "Epoch : 239, Loss: 0.37083983421325684, Test loss: 0.3618850111961365\n",
      "Epoch : 240, Loss: 0.36921578645706177, Test loss: 0.3594709634780884\n",
      "OrderedDict([('weights', tensor([0.6919])), ('biass', tensor([0.6740]))])\n",
      "Epoch : 241, Loss: 0.3675916790962219, Test loss: 0.3570568859577179\n",
      "Epoch : 242, Loss: 0.3659675717353821, Test loss: 0.354642778635025\n",
      "Epoch : 243, Loss: 0.36434346437454224, Test loss: 0.35222870111465454\n",
      "Epoch : 244, Loss: 0.3627193868160248, Test loss: 0.34981465339660645\n",
      "Epoch : 245, Loss: 0.3610953390598297, Test loss: 0.3474005460739136\n",
      "Epoch : 246, Loss: 0.35947126150131226, Test loss: 0.3449864685535431\n",
      "Epoch : 247, Loss: 0.3578471541404724, Test loss: 0.3425723910331726\n",
      "Epoch : 248, Loss: 0.35622307658195496, Test loss: 0.34015828371047974\n",
      "Epoch : 249, Loss: 0.3545989394187927, Test loss: 0.33774423599243164\n",
      "Epoch : 250, Loss: 0.35297489166259766, Test loss: 0.3353300988674164\n",
      "OrderedDict([('weights', tensor([0.6840])), ('biass', tensor([0.6640]))])\n",
      "Epoch : 251, Loss: 0.3513508141040802, Test loss: 0.3329159915447235\n",
      "Epoch : 252, Loss: 0.34972673654556274, Test loss: 0.330501914024353\n",
      "Epoch : 253, Loss: 0.3481026291847229, Test loss: 0.32808786630630493\n",
      "Epoch : 254, Loss: 0.34647855162620544, Test loss: 0.32567375898361206\n",
      "Epoch : 255, Loss: 0.344854474067688, Test loss: 0.3232596814632416\n",
      "Epoch : 256, Loss: 0.34323033690452576, Test loss: 0.3208455741405487\n",
      "Epoch : 257, Loss: 0.3416063189506531, Test loss: 0.31843146681785583\n",
      "Epoch : 258, Loss: 0.33998221158981323, Test loss: 0.31601738929748535\n",
      "Epoch : 259, Loss: 0.3383581042289734, Test loss: 0.31360334157943726\n",
      "Epoch : 260, Loss: 0.33673402667045593, Test loss: 0.3111892640590668\n",
      "OrderedDict([('weights', tensor([0.6761])), ('biass', tensor([0.6540]))])\n",
      "Epoch : 261, Loss: 0.3351099491119385, Test loss: 0.3087751269340515\n",
      "Epoch : 262, Loss: 0.3334859013557434, Test loss: 0.30636104941368103\n",
      "Epoch : 263, Loss: 0.33186179399490356, Test loss: 0.30394697189331055\n",
      "Epoch : 264, Loss: 0.3302376866340637, Test loss: 0.30153289437294006\n",
      "Epoch : 265, Loss: 0.3286135792732239, Test loss: 0.2991188168525696\n",
      "Epoch : 266, Loss: 0.3269895017147064, Test loss: 0.2967047095298767\n",
      "Epoch : 267, Loss: 0.32536545395851135, Test loss: 0.2942906320095062\n",
      "Epoch : 268, Loss: 0.3237413465976715, Test loss: 0.29187652468681335\n",
      "Epoch : 269, Loss: 0.32211726903915405, Test loss: 0.2894624173641205\n",
      "Epoch : 270, Loss: 0.3204931616783142, Test loss: 0.2870483994483948\n",
      "OrderedDict([('weights', tensor([0.6682])), ('biass', tensor([0.6440]))])\n",
      "Epoch : 271, Loss: 0.31886905431747437, Test loss: 0.2846342623233795\n",
      "Epoch : 272, Loss: 0.3172449767589569, Test loss: 0.28222018480300903\n",
      "Epoch : 273, Loss: 0.31562089920043945, Test loss: 0.27980607748031616\n",
      "Epoch : 274, Loss: 0.3139968514442444, Test loss: 0.27739202976226807\n",
      "Epoch : 275, Loss: 0.31237274408340454, Test loss: 0.2749779224395752\n",
      "Epoch : 276, Loss: 0.3107486367225647, Test loss: 0.2725638449192047\n",
      "Epoch : 277, Loss: 0.30912452936172485, Test loss: 0.27014976739883423\n",
      "Epoch : 278, Loss: 0.3075004518032074, Test loss: 0.26773568987846375\n",
      "Epoch : 279, Loss: 0.30587637424468994, Test loss: 0.2653215825557709\n",
      "Epoch : 280, Loss: 0.3042523264884949, Test loss: 0.262907475233078\n",
      "OrderedDict([('weights', tensor([0.6603])), ('biass', tensor([0.6340]))])\n",
      "Epoch : 281, Loss: 0.30262821912765503, Test loss: 0.2604934275150299\n",
      "Epoch : 282, Loss: 0.3010041117668152, Test loss: 0.25807932019233704\n",
      "Epoch : 283, Loss: 0.29938003420829773, Test loss: 0.25566521286964417\n",
      "Epoch : 284, Loss: 0.2977558970451355, Test loss: 0.2532511353492737\n",
      "Epoch : 285, Loss: 0.2961318790912628, Test loss: 0.2508370280265808\n",
      "Epoch : 286, Loss: 0.29450780153274536, Test loss: 0.24842295050621033\n",
      "Epoch : 287, Loss: 0.2928836941719055, Test loss: 0.24600887298583984\n",
      "Epoch : 288, Loss: 0.2912595868110657, Test loss: 0.24359481036663055\n",
      "Epoch : 289, Loss: 0.28963547945022583, Test loss: 0.24118070304393768\n",
      "Epoch : 290, Loss: 0.2880114018917084, Test loss: 0.2387666255235672\n",
      "OrderedDict([('weights', tensor([0.6524])), ('biass', tensor([0.6240]))])\n",
      "Epoch : 291, Loss: 0.2863873541355133, Test loss: 0.23635253310203552\n",
      "Epoch : 292, Loss: 0.28476324677467346, Test loss: 0.23393845558166504\n",
      "Epoch : 293, Loss: 0.283139169216156, Test loss: 0.23152437806129456\n",
      "Epoch : 294, Loss: 0.28151506185531616, Test loss: 0.22911028563976288\n",
      "Epoch : 295, Loss: 0.2798909544944763, Test loss: 0.2266961634159088\n",
      "Epoch : 296, Loss: 0.27826690673828125, Test loss: 0.22428210079669952\n",
      "Epoch : 297, Loss: 0.2766427993774414, Test loss: 0.22186800837516785\n",
      "Epoch : 298, Loss: 0.27501869201660156, Test loss: 0.21945390105247498\n",
      "Epoch : 299, Loss: 0.2733946442604065, Test loss: 0.21703985333442688\n",
      "Epoch : 300, Loss: 0.27177053689956665, Test loss: 0.214625746011734\n",
      "OrderedDict([('weights', tensor([0.6445])), ('biass', tensor([0.6140]))])\n",
      "Epoch : 301, Loss: 0.2701464593410492, Test loss: 0.21221165359020233\n",
      "Epoch : 302, Loss: 0.26852235198020935, Test loss: 0.20979757606983185\n",
      "Epoch : 303, Loss: 0.2668982744216919, Test loss: 0.20738348364830017\n",
      "Epoch : 304, Loss: 0.26527419686317444, Test loss: 0.2049694061279297\n",
      "Epoch : 305, Loss: 0.263650119304657, Test loss: 0.2025553286075592\n",
      "Epoch : 306, Loss: 0.26202601194381714, Test loss: 0.20014123618602753\n",
      "Epoch : 307, Loss: 0.2604019045829773, Test loss: 0.19772715866565704\n",
      "Epoch : 308, Loss: 0.2587778568267822, Test loss: 0.19531305134296417\n",
      "Epoch : 309, Loss: 0.25715377926826477, Test loss: 0.1928989589214325\n",
      "Epoch : 310, Loss: 0.2555296719074249, Test loss: 0.190484881401062\n",
      "OrderedDict([('weights', tensor([0.6366])), ('biass', tensor([0.6040]))])\n",
      "Epoch : 311, Loss: 0.25390559434890747, Test loss: 0.18807078897953033\n",
      "Epoch : 312, Loss: 0.2522814869880676, Test loss: 0.18565671145915985\n",
      "Epoch : 313, Loss: 0.25065740942955017, Test loss: 0.18324263393878937\n",
      "Epoch : 314, Loss: 0.2490333616733551, Test loss: 0.1808284968137741\n",
      "Epoch : 315, Loss: 0.24740925431251526, Test loss: 0.17841443419456482\n",
      "Epoch : 316, Loss: 0.2457851618528366, Test loss: 0.17600035667419434\n",
      "Epoch : 317, Loss: 0.24416105449199677, Test loss: 0.17358627915382385\n",
      "Epoch : 318, Loss: 0.2425369769334793, Test loss: 0.17117217183113098\n",
      "Epoch : 319, Loss: 0.24091291427612305, Test loss: 0.1687581092119217\n",
      "Epoch : 320, Loss: 0.2392888069152832, Test loss: 0.16634401679039001\n",
      "OrderedDict([('weights', tensor([0.6287])), ('biass', tensor([0.5940]))])\n",
      "Epoch : 321, Loss: 0.23766472935676575, Test loss: 0.16392990946769714\n",
      "Epoch : 322, Loss: 0.2360406219959259, Test loss: 0.16151583194732666\n",
      "Epoch : 323, Loss: 0.23441652953624725, Test loss: 0.15910175442695618\n",
      "Epoch : 324, Loss: 0.2327924519777298, Test loss: 0.1566876620054245\n",
      "Epoch : 325, Loss: 0.23116835951805115, Test loss: 0.1542735993862152\n",
      "Epoch : 326, Loss: 0.2295442819595337, Test loss: 0.15185949206352234\n",
      "Epoch : 327, Loss: 0.22792017459869385, Test loss: 0.14944538474082947\n",
      "Epoch : 328, Loss: 0.22629611194133759, Test loss: 0.14703130722045898\n",
      "Epoch : 329, Loss: 0.22467200458049774, Test loss: 0.14461718499660492\n",
      "Epoch : 330, Loss: 0.22304794192314148, Test loss: 0.14220313727855682\n",
      "OrderedDict([('weights', tensor([0.6208])), ('biass', tensor([0.5840]))])\n",
      "Epoch : 331, Loss: 0.22142383456230164, Test loss: 0.13978904485702515\n",
      "Epoch : 332, Loss: 0.21979975700378418, Test loss: 0.13737496733665466\n",
      "Epoch : 333, Loss: 0.21817567944526672, Test loss: 0.13496087491512299\n",
      "Epoch : 334, Loss: 0.21655158698558807, Test loss: 0.1325467973947525\n",
      "Epoch : 335, Loss: 0.21492750942707062, Test loss: 0.13013270497322083\n",
      "Epoch : 336, Loss: 0.21330341696739197, Test loss: 0.12771861255168915\n",
      "Epoch : 337, Loss: 0.21167930960655212, Test loss: 0.12530453503131866\n",
      "Epoch : 338, Loss: 0.21005520224571228, Test loss: 0.12289045006036758\n",
      "Epoch : 339, Loss: 0.2084311544895172, Test loss: 0.12047634273767471\n",
      "Epoch : 340, Loss: 0.20680706202983856, Test loss: 0.11806225776672363\n",
      "OrderedDict([('weights', tensor([0.6129])), ('biass', tensor([0.5740]))])\n",
      "Epoch : 341, Loss: 0.2051829844713211, Test loss: 0.11564818769693375\n",
      "Epoch : 342, Loss: 0.20355887711048126, Test loss: 0.11323408782482147\n",
      "Epoch : 343, Loss: 0.201934814453125, Test loss: 0.11082001030445099\n",
      "Epoch : 344, Loss: 0.20031070709228516, Test loss: 0.10840590298175812\n",
      "Epoch : 345, Loss: 0.1986866146326065, Test loss: 0.10599181801080704\n",
      "Epoch : 346, Loss: 0.19706252217292786, Test loss: 0.10357775539159775\n",
      "Epoch : 347, Loss: 0.1954384446144104, Test loss: 0.10116368532180786\n",
      "Epoch : 348, Loss: 0.19381435215473175, Test loss: 0.0987495705485344\n",
      "Epoch : 349, Loss: 0.1921902596950531, Test loss: 0.09633549302816391\n",
      "Epoch : 350, Loss: 0.19056619703769684, Test loss: 0.09392138570547104\n",
      "OrderedDict([('weights', tensor([0.6050])), ('biass', tensor([0.5640]))])\n",
      "Epoch : 351, Loss: 0.1889421045780182, Test loss: 0.09150730818510056\n",
      "Epoch : 352, Loss: 0.18731799721717834, Test loss: 0.08909320831298828\n",
      "Epoch : 353, Loss: 0.1856939196586609, Test loss: 0.0866791382431984\n",
      "Epoch : 354, Loss: 0.18406984210014343, Test loss: 0.08426504582166672\n",
      "Epoch : 355, Loss: 0.18244574964046478, Test loss: 0.08185099065303802\n",
      "Epoch : 356, Loss: 0.18082164227962494, Test loss: 0.07943687587976456\n",
      "Epoch : 357, Loss: 0.17919757962226868, Test loss: 0.07702278345823288\n",
      "Epoch : 358, Loss: 0.17757350206375122, Test loss: 0.0746086984872818\n",
      "Epoch : 359, Loss: 0.17594939470291138, Test loss: 0.07219459861516953\n",
      "Epoch : 360, Loss: 0.17432531714439392, Test loss: 0.06978052109479904\n",
      "OrderedDict([('weights', tensor([0.5971])), ('biass', tensor([0.5540]))])\n",
      "Epoch : 361, Loss: 0.17270123958587646, Test loss: 0.06736642867326736\n",
      "Epoch : 362, Loss: 0.17107714712619781, Test loss: 0.06495235860347748\n",
      "Epoch : 363, Loss: 0.16945306956768036, Test loss: 0.0625382587313652\n",
      "Epoch : 364, Loss: 0.16782896220684052, Test loss: 0.06012417748570442\n",
      "Epoch : 365, Loss: 0.16620489954948425, Test loss: 0.05771009251475334\n",
      "Epoch : 366, Loss: 0.1645807921886444, Test loss: 0.05529601499438286\n",
      "Epoch : 367, Loss: 0.16295671463012695, Test loss: 0.05288192629814148\n",
      "Epoch : 368, Loss: 0.1613326370716095, Test loss: 0.05046781897544861\n",
      "Epoch : 369, Loss: 0.15970854461193085, Test loss: 0.048053741455078125\n",
      "Epoch : 370, Loss: 0.1580844521522522, Test loss: 0.04563964530825615\n",
      "OrderedDict([('weights', tensor([0.5892])), ('biass', tensor([0.5440]))])\n",
      "Epoch : 371, Loss: 0.15646035969257355, Test loss: 0.043225567787885666\n",
      "Epoch : 372, Loss: 0.1548362672328949, Test loss: 0.04081147164106369\n",
      "Epoch : 373, Loss: 0.15321218967437744, Test loss: 0.0383974127471447\n",
      "Epoch : 374, Loss: 0.15158811211585999, Test loss: 0.03598330542445183\n",
      "Epoch : 375, Loss: 0.14996401965618134, Test loss: 0.033569227904081345\n",
      "Epoch : 376, Loss: 0.14833992719650269, Test loss: 0.031155133619904518\n",
      "Epoch : 377, Loss: 0.14671581983566284, Test loss: 0.028741050511598587\n",
      "Epoch : 378, Loss: 0.14509174227714539, Test loss: 0.02632697857916355\n",
      "Epoch : 379, Loss: 0.14346766471862793, Test loss: 0.023912882432341576\n",
      "Epoch : 380, Loss: 0.14184355735778809, Test loss: 0.02160460315644741\n",
      "OrderedDict([('weights', tensor([0.5813])), ('biass', tensor([0.5340]))])\n",
      "Epoch : 381, Loss: 0.14021947979927063, Test loss: 0.019570160657167435\n",
      "Epoch : 382, Loss: 0.13859538733959198, Test loss: 0.017804760485887527\n",
      "Epoch : 383, Loss: 0.13697130978107452, Test loss: 0.01630372926592827\n",
      "Epoch : 384, Loss: 0.13534723222255707, Test loss: 0.01506226696074009\n",
      "Epoch : 385, Loss: 0.13372313976287842, Test loss: 0.014075654558837414\n",
      "Epoch : 386, Loss: 0.13209906220436096, Test loss: 0.013339197263121605\n",
      "Epoch : 387, Loss: 0.13047495484352112, Test loss: 0.012848114594817162\n",
      "Epoch : 388, Loss: 0.12885086238384247, Test loss: 0.012597638182342052\n",
      "Epoch : 389, Loss: 0.127226784825325, Test loss: 0.01258307695388794\n",
      "Epoch : 390, Loss: 0.12560269236564636, Test loss: 0.012799662537872791\n",
      "OrderedDict([('weights', tensor([0.5734])), ('biass', tensor([0.5240]))])\n",
      "Epoch : 391, Loss: 0.1239786148071289, Test loss: 0.013242674060165882\n",
      "Epoch : 392, Loss: 0.12235452979803085, Test loss: 0.01390734314918518\n",
      "Epoch : 393, Loss: 0.1207304447889328, Test loss: 0.014788961037993431\n",
      "Epoch : 394, Loss: 0.11910635232925415, Test loss: 0.015882765874266624\n",
      "Epoch : 395, Loss: 0.1174822598695755, Test loss: 0.01718403771519661\n",
      "Epoch : 396, Loss: 0.11585819721221924, Test loss: 0.018688004463911057\n",
      "Epoch : 397, Loss: 0.11423410475254059, Test loss: 0.020418161526322365\n",
      "Epoch : 398, Loss: 0.11261000484228134, Test loss: 0.022349679842591286\n",
      "Epoch : 399, Loss: 0.11098591983318329, Test loss: 0.02447284385561943\n",
      "Epoch : 400, Loss: 0.10936184227466583, Test loss: 0.026782965287566185\n",
      "OrderedDict([('weights', tensor([0.5655])), ('biass', tensor([0.5140]))])\n",
      "Epoch : 401, Loss: 0.10773774236440659, Test loss: 0.02919704280793667\n",
      "Epoch : 402, Loss: 0.10613320022821426, Test loss: 0.03151540830731392\n",
      "Epoch : 403, Loss: 0.10462486743927002, Test loss: 0.03373898193240166\n",
      "Epoch : 404, Loss: 0.10321613401174545, Test loss: 0.0359625406563282\n",
      "Epoch : 405, Loss: 0.10184723138809204, Test loss: 0.03809221833944321\n",
      "Epoch : 406, Loss: 0.10055841505527496, Test loss: 0.040128886699676514\n",
      "Epoch : 407, Loss: 0.09934520721435547, Test loss: 0.042165547609329224\n",
      "Epoch : 408, Loss: 0.0981752797961235, Test loss: 0.04411003738641739\n",
      "Epoch : 409, Loss: 0.09707022458314896, Test loss: 0.045963384211063385\n",
      "Epoch : 410, Loss: 0.09603352844715118, Test loss: 0.047816742211580276\n",
      "OrderedDict([('weights', tensor([0.5589])), ('biass', tensor([0.5048]))])\n",
      "Epoch : 411, Loss: 0.09502779692411423, Test loss: 0.049579668790102005\n",
      "Epoch : 412, Loss: 0.0940726101398468, Test loss: 0.05134260654449463\n",
      "Epoch : 413, Loss: 0.09315680712461472, Test loss: 0.05301608890295029\n",
      "Epoch : 414, Loss: 0.09228425472974777, Test loss: 0.054601073265075684\n",
      "Epoch : 415, Loss: 0.09147888422012329, Test loss: 0.056186072528362274\n",
      "Epoch : 416, Loss: 0.09067818522453308, Test loss: 0.05768335983157158\n",
      "Epoch : 417, Loss: 0.08994138985872269, Test loss: 0.059180617332458496\n",
      "Epoch : 418, Loss: 0.08920459449291229, Test loss: 0.060677897185087204\n",
      "Epoch : 419, Loss: 0.08850015699863434, Test loss: 0.0620884969830513\n",
      "Epoch : 420, Loss: 0.08782781660556793, Test loss: 0.06349911540746689\n",
      "OrderedDict([('weights', tensor([0.5544])), ('biass', tensor([0.4971]))])\n",
      "Epoch : 421, Loss: 0.08717770874500275, Test loss: 0.06482379138469696\n",
      "Epoch : 422, Loss: 0.08656592667102814, Test loss: 0.06614847481250763\n",
      "Epoch : 423, Loss: 0.08596193045377731, Test loss: 0.06738819181919098\n",
      "Epoch : 424, Loss: 0.08540677279233932, Test loss: 0.06862790137529373\n",
      "Epoch : 425, Loss: 0.08485163003206253, Test loss: 0.06986762583255768\n",
      "Epoch : 426, Loss: 0.08431297540664673, Test loss: 0.07102333009243011\n",
      "Epoch : 427, Loss: 0.08381067216396332, Test loss: 0.07217904925346375\n",
      "Epoch : 428, Loss: 0.08330835402011871, Test loss: 0.07333475351333618\n",
      "Epoch : 429, Loss: 0.08282523602247238, Test loss: 0.07440723478794098\n",
      "Epoch : 430, Loss: 0.08237211406230927, Test loss: 0.07547970861196518\n",
      "OrderedDict([('weights', tensor([0.5514])), ('biass', tensor([0.4905]))])\n",
      "Epoch : 431, Loss: 0.08191897720098495, Test loss: 0.07655219733715057\n",
      "Epoch : 432, Loss: 0.08148183673620224, Test loss: 0.07754237949848175\n",
      "Epoch : 433, Loss: 0.08107433468103409, Test loss: 0.07853259146213531\n",
      "Epoch : 434, Loss: 0.08066681027412415, Test loss: 0.0795227587223053\n",
      "Epoch : 435, Loss: 0.08026646077632904, Test loss: 0.08043161779642105\n",
      "Epoch : 436, Loss: 0.07990103960037231, Test loss: 0.08134044706821442\n",
      "Epoch : 437, Loss: 0.07953564077615738, Test loss: 0.08224929124116898\n",
      "Epoch : 438, Loss: 0.07917021960020065, Test loss: 0.08315812796354294\n",
      "Epoch : 439, Loss: 0.07881786674261093, Test loss: 0.08398650586605072\n",
      "Epoch : 440, Loss: 0.07849118113517761, Test loss: 0.08481485396623611\n",
      "OrderedDict([('weights', tensor([0.5494])), ('biass', tensor([0.4847]))])\n",
      "Epoch : 441, Loss: 0.07816450297832489, Test loss: 0.0856432169675827\n",
      "Epoch : 442, Loss: 0.07783781737089157, Test loss: 0.0864715725183487\n",
      "Epoch : 443, Loss: 0.07752303779125214, Test loss: 0.08722030371427536\n",
      "Epoch : 444, Loss: 0.07723178714513779, Test loss: 0.08796904981136322\n",
      "Epoch : 445, Loss: 0.07694054394960403, Test loss: 0.08871780335903168\n",
      "Epoch : 446, Loss: 0.07664929330348969, Test loss: 0.08946650475263596\n",
      "Epoch : 447, Loss: 0.07636203616857529, Test loss: 0.09013655036687851\n",
      "Epoch : 448, Loss: 0.07610299438238144, Test loss: 0.09080664068460464\n",
      "Epoch : 449, Loss: 0.07584396749734879, Test loss: 0.09147670865058899\n",
      "Epoch : 450, Loss: 0.07558494806289673, Test loss: 0.09214675426483154\n",
      "OrderedDict([('weights', tensor([0.5483])), ('biass', tensor([0.4795]))])\n",
      "Epoch : 451, Loss: 0.07532593607902527, Test loss: 0.0928168073296547\n",
      "Epoch : 452, Loss: 0.07507170736789703, Test loss: 0.09340906888246536\n",
      "Epoch : 453, Loss: 0.07484178990125656, Test loss: 0.09400128573179245\n",
      "Epoch : 454, Loss: 0.07461188733577728, Test loss: 0.09459355473518372\n",
      "Epoch : 455, Loss: 0.07438196986913681, Test loss: 0.0951857715845108\n",
      "Epoch : 456, Loss: 0.07415205985307693, Test loss: 0.09577805548906326\n",
      "Epoch : 457, Loss: 0.07392214238643646, Test loss: 0.09637027233839035\n",
      "Epoch : 458, Loss: 0.07370376586914062, Test loss: 0.0968855619430542\n",
      "Epoch : 459, Loss: 0.07349994033575058, Test loss: 0.09740085899829865\n",
      "Epoch : 460, Loss: 0.07329612225294113, Test loss: 0.0979161188006401\n",
      "OrderedDict([('weights', tensor([0.5477])), ('biass', tensor([0.4748]))])\n",
      "Epoch : 461, Loss: 0.07309228181838989, Test loss: 0.09843139350414276\n",
      "Epoch : 462, Loss: 0.07288846373558044, Test loss: 0.09894667565822601\n",
      "Epoch : 463, Loss: 0.0726846382021904, Test loss: 0.09946198761463165\n",
      "Epoch : 464, Loss: 0.07248995453119278, Test loss: 0.09990127384662628\n",
      "Epoch : 465, Loss: 0.07230925559997559, Test loss: 0.1003405824303627\n",
      "Epoch : 466, Loss: 0.07212857156991959, Test loss: 0.10077989101409912\n",
      "Epoch : 467, Loss: 0.07194787263870239, Test loss: 0.10121919959783554\n",
      "Epoch : 468, Loss: 0.0717671737074852, Test loss: 0.10165850818157196\n",
      "Epoch : 469, Loss: 0.0715864896774292, Test loss: 0.10209779441356659\n",
      "Epoch : 470, Loss: 0.071405790746212, Test loss: 0.1025371104478836\n",
      "OrderedDict([('weights', tensor([0.5475])), ('biass', tensor([0.4705]))])\n",
      "Epoch : 471, Loss: 0.07123395800590515, Test loss: 0.10290129482746124\n",
      "Epoch : 472, Loss: 0.07107354700565338, Test loss: 0.10326547920703888\n",
      "Epoch : 473, Loss: 0.07091313600540161, Test loss: 0.10362958908081055\n",
      "Epoch : 474, Loss: 0.07075274735689163, Test loss: 0.10399375855922699\n",
      "Epoch : 475, Loss: 0.07059234380722046, Test loss: 0.10435788333415985\n",
      "Epoch : 476, Loss: 0.07043194770812988, Test loss: 0.10472206771373749\n",
      "Epoch : 477, Loss: 0.07027153670787811, Test loss: 0.10508622974157333\n",
      "Epoch : 478, Loss: 0.07011112570762634, Test loss: 0.10545039176940918\n",
      "Epoch : 479, Loss: 0.06995891779661179, Test loss: 0.10574035346508026\n",
      "Epoch : 480, Loss: 0.06981603801250458, Test loss: 0.10603033006191254\n",
      "OrderedDict([('weights', tensor([0.5477])), ('biass', tensor([0.4665]))])\n",
      "Epoch : 481, Loss: 0.06967314332723618, Test loss: 0.10632028430700302\n",
      "Epoch : 482, Loss: 0.06953026354312897, Test loss: 0.10661031305789948\n",
      "Epoch : 483, Loss: 0.06938739866018295, Test loss: 0.10690023005008698\n",
      "Epoch : 484, Loss: 0.06924451142549515, Test loss: 0.10719019174575806\n",
      "Epoch : 485, Loss: 0.06910163164138794, Test loss: 0.10748016834259033\n",
      "Epoch : 486, Loss: 0.06895874440670013, Test loss: 0.10777013003826141\n",
      "Epoch : 487, Loss: 0.06881587207317352, Test loss: 0.10806009918451309\n",
      "Epoch : 488, Loss: 0.06867782771587372, Test loss: 0.10827672481536865\n",
      "Epoch : 489, Loss: 0.06854976713657379, Test loss: 0.1084933653473854\n",
      "Epoch : 490, Loss: 0.06842172890901566, Test loss: 0.10871000587940216\n",
      "OrderedDict([('weights', tensor([0.5483])), ('biass', tensor([0.4628]))])\n",
      "Epoch : 491, Loss: 0.06829367578029633, Test loss: 0.10892663151025772\n",
      "Epoch : 492, Loss: 0.068165622651577, Test loss: 0.10914325714111328\n",
      "Epoch : 493, Loss: 0.06803756952285767, Test loss: 0.10935989767313004\n",
      "Epoch : 494, Loss: 0.06790952384471893, Test loss: 0.10957653820514679\n",
      "Epoch : 495, Loss: 0.0677814707159996, Test loss: 0.10979316383600235\n",
      "Epoch : 496, Loss: 0.06765342503786087, Test loss: 0.11000978946685791\n",
      "Epoch : 497, Loss: 0.06752537190914154, Test loss: 0.11022642999887466\n",
      "Epoch : 498, Loss: 0.06739732623100281, Test loss: 0.11044307053089142\n",
      "Epoch : 499, Loss: 0.06727268546819687, Test loss: 0.11058733612298965\n",
      "Epoch : 500, Loss: 0.06715686619281769, Test loss: 0.1107315793633461\n",
      "OrderedDict([('weights', tensor([0.5491])), ('biass', tensor([0.4594]))])\n",
      "Epoch : 501, Loss: 0.06704104691743851, Test loss: 0.11087583005428314\n",
      "Epoch : 502, Loss: 0.06692522764205933, Test loss: 0.11102011054754257\n",
      "Epoch : 503, Loss: 0.06680940836668015, Test loss: 0.11116434633731842\n",
      "Epoch : 504, Loss: 0.06669358909130096, Test loss: 0.11130864918231964\n",
      "Epoch : 505, Loss: 0.06657774746417999, Test loss: 0.11145287752151489\n",
      "Epoch : 506, Loss: 0.066461943089962, Test loss: 0.11159710586071014\n",
      "Epoch : 507, Loss: 0.06634612381458282, Test loss: 0.11174137890338898\n",
      "Epoch : 508, Loss: 0.06623030453920364, Test loss: 0.11188565194606781\n",
      "Epoch : 509, Loss: 0.06611448526382446, Test loss: 0.11202991008758545\n",
      "Epoch : 510, Loss: 0.06599865108728409, Test loss: 0.1121741533279419\n",
      "OrderedDict([('weights', tensor([0.5501])), ('biass', tensor([0.4561]))])\n",
      "Epoch : 511, Loss: 0.0658828392624855, Test loss: 0.11231841892004013\n",
      "Epoch : 512, Loss: 0.06576701998710632, Test loss: 0.11246268451213837\n",
      "Epoch : 513, Loss: 0.06565605103969574, Test loss: 0.11253528296947479\n",
      "Epoch : 514, Loss: 0.06554992496967316, Test loss: 0.1126079335808754\n",
      "Epoch : 515, Loss: 0.06544379889965057, Test loss: 0.11268053948879242\n",
      "Epoch : 516, Loss: 0.06533767282962799, Test loss: 0.11275321245193481\n",
      "Epoch : 517, Loss: 0.06523154675960541, Test loss: 0.11282579600811005\n",
      "Epoch : 518, Loss: 0.06512541323900223, Test loss: 0.11289846897125244\n",
      "Epoch : 519, Loss: 0.06501928716897964, Test loss: 0.11297106742858887\n",
      "Epoch : 520, Loss: 0.06491315364837646, Test loss: 0.11304374039173126\n",
      "OrderedDict([('weights', tensor([0.5513])), ('biass', tensor([0.4531]))])\n",
      "Epoch : 521, Loss: 0.06480701267719269, Test loss: 0.1131163239479065\n",
      "Epoch : 522, Loss: 0.0647009015083313, Test loss: 0.1131889820098877\n",
      "Epoch : 523, Loss: 0.06459476798772812, Test loss: 0.11326158046722412\n",
      "Epoch : 524, Loss: 0.06448863446712494, Test loss: 0.11333421617746353\n",
      "Epoch : 525, Loss: 0.06438250839710236, Test loss: 0.11340682208538055\n",
      "Epoch : 526, Loss: 0.06427638977766037, Test loss: 0.11347949504852295\n",
      "Epoch : 527, Loss: 0.06417025625705719, Test loss: 0.11355207115411758\n",
      "Epoch : 528, Loss: 0.0640641301870346, Test loss: 0.11362473666667938\n",
      "Epoch : 529, Loss: 0.06395800411701202, Test loss: 0.113697350025177\n",
      "Epoch : 530, Loss: 0.06385432183742523, Test loss: 0.11369933933019638\n",
      "OrderedDict([('weights', tensor([0.5526])), ('biass', tensor([0.4501]))])\n",
      "Epoch : 531, Loss: 0.06375543028116226, Test loss: 0.11370129883289337\n",
      "Epoch : 532, Loss: 0.06365655362606049, Test loss: 0.11370322853326797\n",
      "Epoch : 533, Loss: 0.0635576844215393, Test loss: 0.11370518058538437\n",
      "Epoch : 534, Loss: 0.06345879286527634, Test loss: 0.11370716243982315\n",
      "Epoch : 535, Loss: 0.06335991621017456, Test loss: 0.11370913684368134\n",
      "Epoch : 536, Loss: 0.06326103955507278, Test loss: 0.11371109634637833\n",
      "Epoch : 537, Loss: 0.06316214054822922, Test loss: 0.11371302604675293\n",
      "Epoch : 538, Loss: 0.06306327134370804, Test loss: 0.1137150302529335\n",
      "Epoch : 539, Loss: 0.06296438723802567, Test loss: 0.1137169823050499\n",
      "Epoch : 540, Loss: 0.06286551058292389, Test loss: 0.11371894180774689\n",
      "OrderedDict([('weights', tensor([0.5541])), ('biass', tensor([0.4474]))])\n",
      "Epoch : 541, Loss: 0.06276662647724152, Test loss: 0.11372087895870209\n",
      "Epoch : 542, Loss: 0.06266774237155914, Test loss: 0.11372284591197968\n",
      "Epoch : 543, Loss: 0.06256885826587677, Test loss: 0.11372480541467667\n",
      "Epoch : 544, Loss: 0.062469977885484695, Test loss: 0.11372677981853485\n",
      "Epoch : 545, Loss: 0.06237109750509262, Test loss: 0.11372871696949005\n",
      "Epoch : 546, Loss: 0.06227220967411995, Test loss: 0.11373069137334824\n",
      "Epoch : 547, Loss: 0.062173329293727875, Test loss: 0.11373267322778702\n",
      "Epoch : 548, Loss: 0.0620744526386261, Test loss: 0.11373460292816162\n",
      "Epoch : 549, Loss: 0.06197556108236313, Test loss: 0.11373655498027802\n",
      "Epoch : 550, Loss: 0.06187669187784195, Test loss: 0.1137385219335556\n",
      "OrderedDict([('weights', tensor([0.5557])), ('biass', tensor([0.4446]))])\n",
      "Epoch : 551, Loss: 0.06177780032157898, Test loss: 0.11374050378799438\n",
      "Epoch : 552, Loss: 0.0616789236664772, Test loss: 0.11374247074127197\n",
      "Epoch : 553, Loss: 0.06158003956079483, Test loss: 0.11374441534280777\n",
      "Epoch : 554, Loss: 0.061483316123485565, Test loss: 0.11367668956518173\n",
      "Epoch : 555, Loss: 0.06138930469751358, Test loss: 0.11360900104045868\n",
      "Epoch : 556, Loss: 0.06129530072212219, Test loss: 0.11354128271341324\n",
      "Epoch : 557, Loss: 0.06120128557085991, Test loss: 0.11347353458404541\n",
      "Epoch : 558, Loss: 0.061107270419597626, Test loss: 0.11340583860874176\n",
      "Epoch : 559, Loss: 0.06101325899362564, Test loss: 0.11333813518285751\n",
      "Epoch : 560, Loss: 0.06091925501823425, Test loss: 0.11327037960290909\n",
      "OrderedDict([('weights', tensor([0.5574])), ('biass', tensor([0.4420]))])\n",
      "Epoch : 561, Loss: 0.060825247317552567, Test loss: 0.11320265382528305\n",
      "Epoch : 562, Loss: 0.06073123216629028, Test loss: 0.1131349578499794\n",
      "Epoch : 563, Loss: 0.060637228190898895, Test loss: 0.11306724697351456\n",
      "Epoch : 564, Loss: 0.06054321676492691, Test loss: 0.11299952119588852\n",
      "Epoch : 565, Loss: 0.06044921278953552, Test loss: 0.11293177306652069\n",
      "Epoch : 566, Loss: 0.06035519763827324, Test loss: 0.11286411434412003\n",
      "Epoch : 567, Loss: 0.060261182487010956, Test loss: 0.11279638111591339\n",
      "Epoch : 568, Loss: 0.06016717478632927, Test loss: 0.11272864043712616\n",
      "Epoch : 569, Loss: 0.06007317453622818, Test loss: 0.11266090720891953\n",
      "Epoch : 570, Loss: 0.059979163110256195, Test loss: 0.11259319633245468\n",
      "OrderedDict([('weights', tensor([0.5591])), ('biass', tensor([0.4395]))])\n",
      "Epoch : 571, Loss: 0.05988515168428421, Test loss: 0.11252550780773163\n",
      "Epoch : 572, Loss: 0.05979114770889282, Test loss: 0.1124577671289444\n",
      "Epoch : 573, Loss: 0.05969712883234024, Test loss: 0.11239002645015717\n",
      "Epoch : 574, Loss: 0.05960312485694885, Test loss: 0.11232229322195053\n",
      "Epoch : 575, Loss: 0.059509117156267166, Test loss: 0.11225463449954987\n",
      "Epoch : 576, Loss: 0.05941510945558548, Test loss: 0.11218690872192383\n",
      "Epoch : 577, Loss: 0.0593210868537426, Test loss: 0.112119160592556\n",
      "Epoch : 578, Loss: 0.05922709032893181, Test loss: 0.11205144226551056\n",
      "Epoch : 579, Loss: 0.059133075177669525, Test loss: 0.1119837537407875\n",
      "Epoch : 580, Loss: 0.05903906747698784, Test loss: 0.11191602796316147\n",
      "OrderedDict([('weights', tensor([0.5609])), ('biass', tensor([0.4370]))])\n",
      "Epoch : 581, Loss: 0.05894504114985466, Test loss: 0.11184827983379364\n",
      "Epoch : 582, Loss: 0.058851052075624466, Test loss: 0.11178059875965118\n",
      "Epoch : 583, Loss: 0.058757029473781586, Test loss: 0.11171289533376694\n",
      "Epoch : 584, Loss: 0.058663029223680496, Test loss: 0.11164514720439911\n",
      "Epoch : 585, Loss: 0.05856901407241821, Test loss: 0.11157741397619247\n",
      "Epoch : 586, Loss: 0.05847499892115593, Test loss: 0.11150971800088882\n",
      "Epoch : 587, Loss: 0.05838099867105484, Test loss: 0.11144201457500458\n",
      "Epoch : 588, Loss: 0.058286987245082855, Test loss: 0.11137428134679794\n",
      "Epoch : 589, Loss: 0.05819297954440117, Test loss: 0.11130654811859131\n",
      "Epoch : 590, Loss: 0.05809897184371948, Test loss: 0.11123883724212646\n",
      "OrderedDict([('weights', tensor([0.5627])), ('biass', tensor([0.4345]))])\n",
      "Epoch : 591, Loss: 0.05800553411245346, Test loss: 0.11110228300094604\n",
      "Epoch : 592, Loss: 0.05791410058736801, Test loss: 0.11096569150686264\n",
      "Epoch : 593, Loss: 0.05782266706228256, Test loss: 0.11082912981510162\n",
      "Epoch : 594, Loss: 0.05773124098777771, Test loss: 0.1106925755739212\n",
      "Epoch : 595, Loss: 0.05763980746269226, Test loss: 0.1105559840798378\n",
      "Epoch : 596, Loss: 0.05754838138818741, Test loss: 0.11041942983865738\n",
      "Epoch : 597, Loss: 0.05745695158839226, Test loss: 0.11028282344341278\n",
      "Epoch : 598, Loss: 0.057365525513887405, Test loss: 0.11014626920223236\n",
      "Epoch : 599, Loss: 0.05727408453822136, Test loss: 0.11000969260931015\n",
      "Epoch : 600, Loss: 0.05718265846371651, Test loss: 0.10987313091754913\n",
      "OrderedDict([('weights', tensor([0.5647])), ('biass', tensor([0.4323]))])\n",
      "Epoch : 601, Loss: 0.057091228663921356, Test loss: 0.10973656177520752\n",
      "Epoch : 602, Loss: 0.05699979513883591, Test loss: 0.10959997028112411\n",
      "Epoch : 603, Loss: 0.056908369064331055, Test loss: 0.1094634085893631\n",
      "Epoch : 604, Loss: 0.056816935539245605, Test loss: 0.10932683944702148\n",
      "Epoch : 605, Loss: 0.056725502014160156, Test loss: 0.10919024795293808\n",
      "Epoch : 606, Loss: 0.056634075939655304, Test loss: 0.10905368626117706\n",
      "Epoch : 607, Loss: 0.05654264613986015, Test loss: 0.10891711711883545\n",
      "Epoch : 608, Loss: 0.056451212614774704, Test loss: 0.10878054052591324\n",
      "Epoch : 609, Loss: 0.05635978654026985, Test loss: 0.10864396393299103\n",
      "Epoch : 610, Loss: 0.0562683530151844, Test loss: 0.10850740969181061\n",
      "OrderedDict([('weights', tensor([0.5667])), ('biass', tensor([0.4300]))])\n",
      "Epoch : 611, Loss: 0.05617691949009895, Test loss: 0.1083708181977272\n",
      "Epoch : 612, Loss: 0.0560854896903038, Test loss: 0.10823424905538559\n",
      "Epoch : 613, Loss: 0.05599406361579895, Test loss: 0.10809769481420517\n",
      "Epoch : 614, Loss: 0.0559026300907135, Test loss: 0.10796109586954117\n",
      "Epoch : 615, Loss: 0.05581119656562805, Test loss: 0.10782452672719955\n",
      "Epoch : 616, Loss: 0.0557197704911232, Test loss: 0.10768797248601913\n",
      "Epoch : 617, Loss: 0.05562834069132805, Test loss: 0.10755138099193573\n",
      "Epoch : 618, Loss: 0.0555369071662426, Test loss: 0.10741481930017471\n",
      "Epoch : 619, Loss: 0.05544547364115715, Test loss: 0.1072782427072525\n",
      "Epoch : 620, Loss: 0.0553540475666523, Test loss: 0.1071416586637497\n",
      "OrderedDict([('weights', tensor([0.5688])), ('biass', tensor([0.4278]))])\n",
      "Epoch : 621, Loss: 0.05526261776685715, Test loss: 0.10700509697198868\n",
      "Epoch : 622, Loss: 0.0551711805164814, Test loss: 0.10686850547790527\n",
      "Epoch : 623, Loss: 0.05507975071668625, Test loss: 0.10673193633556366\n",
      "Epoch : 624, Loss: 0.054988324642181396, Test loss: 0.10659537464380264\n",
      "Epoch : 625, Loss: 0.05489688366651535, Test loss: 0.10645882040262222\n",
      "Epoch : 626, Loss: 0.0548054575920105, Test loss: 0.10632222890853882\n",
      "Epoch : 627, Loss: 0.054714031517505646, Test loss: 0.10618565231561661\n",
      "Epoch : 628, Loss: 0.054622601717710495, Test loss: 0.106049083173275\n",
      "Epoch : 629, Loss: 0.05453116446733475, Test loss: 0.10591250658035278\n",
      "Epoch : 630, Loss: 0.0544397346675396, Test loss: 0.10577592998743057\n",
      "OrderedDict([('weights', tensor([0.5708])), ('biass', tensor([0.4255]))])\n",
      "Epoch : 631, Loss: 0.05434830114245415, Test loss: 0.10563936084508896\n",
      "Epoch : 632, Loss: 0.054256878793239594, Test loss: 0.10550278425216675\n",
      "Epoch : 633, Loss: 0.054165445268154144, Test loss: 0.10536623001098633\n",
      "Epoch : 634, Loss: 0.05407401919364929, Test loss: 0.10522963106632233\n",
      "Epoch : 635, Loss: 0.05398259684443474, Test loss: 0.1050930768251419\n",
      "Epoch : 636, Loss: 0.05389115959405899, Test loss: 0.1049564927816391\n",
      "Epoch : 637, Loss: 0.05379972606897354, Test loss: 0.10481993854045868\n",
      "Epoch : 638, Loss: 0.05370829254388809, Test loss: 0.10468333959579468\n",
      "Epoch : 639, Loss: 0.05361686274409294, Test loss: 0.10454678535461426\n",
      "Epoch : 640, Loss: 0.05352542921900749, Test loss: 0.10441020876169205\n",
      "OrderedDict([('weights', tensor([0.5728])), ('biass', tensor([0.4233]))])\n",
      "Epoch : 641, Loss: 0.05343399569392204, Test loss: 0.10427363216876984\n",
      "Epoch : 642, Loss: 0.05334256961941719, Test loss: 0.10413707792758942\n",
      "Epoch : 643, Loss: 0.05325113609433174, Test loss: 0.10400049388408661\n",
      "Epoch : 644, Loss: 0.05315970256924629, Test loss: 0.10386393219232559\n",
      "Epoch : 645, Loss: 0.05306828022003174, Test loss: 0.10372734069824219\n",
      "Epoch : 646, Loss: 0.05297684669494629, Test loss: 0.10359078645706177\n",
      "Epoch : 647, Loss: 0.05288541316986084, Test loss: 0.10345420986413956\n",
      "Epoch : 648, Loss: 0.05279397964477539, Test loss: 0.10331763327121735\n",
      "Epoch : 649, Loss: 0.05270255357027054, Test loss: 0.10318104922771454\n",
      "Epoch : 650, Loss: 0.05261112004518509, Test loss: 0.10304447263479233\n",
      "OrderedDict([('weights', tensor([0.5748])), ('biass', tensor([0.4210]))])\n",
      "Epoch : 651, Loss: 0.05251969024538994, Test loss: 0.10290791839361191\n",
      "Epoch : 652, Loss: 0.052428264170885086, Test loss: 0.10277138650417328\n",
      "Epoch : 653, Loss: 0.052336834371089935, Test loss: 0.10263477265834808\n",
      "Epoch : 654, Loss: 0.05224538967013359, Test loss: 0.10249819606542587\n",
      "Epoch : 655, Loss: 0.052153974771499634, Test loss: 0.10236163437366486\n",
      "Epoch : 656, Loss: 0.052062541246414185, Test loss: 0.10222504287958145\n",
      "Epoch : 657, Loss: 0.051971107721328735, Test loss: 0.10208847373723984\n",
      "Epoch : 658, Loss: 0.05187968164682388, Test loss: 0.10195189714431763\n",
      "Epoch : 659, Loss: 0.05178825929760933, Test loss: 0.10181532055139542\n",
      "Epoch : 660, Loss: 0.05169681832194328, Test loss: 0.1016787514090538\n",
      "OrderedDict([('weights', tensor([0.5768])), ('biass', tensor([0.4188]))])\n",
      "Epoch : 661, Loss: 0.05160539224743843, Test loss: 0.10154218971729279\n",
      "Epoch : 662, Loss: 0.05151395872235298, Test loss: 0.10140562057495117\n",
      "Epoch : 663, Loss: 0.05142252519726753, Test loss: 0.10126902908086777\n",
      "Epoch : 664, Loss: 0.05133109167218208, Test loss: 0.10113246738910675\n",
      "Epoch : 665, Loss: 0.051239658147096634, Test loss: 0.10099587589502335\n",
      "Epoch : 666, Loss: 0.05114823579788208, Test loss: 0.10085932165384293\n",
      "Epoch : 667, Loss: 0.051056794822216034, Test loss: 0.10072275251150131\n",
      "Epoch : 668, Loss: 0.05096537619829178, Test loss: 0.1005861759185791\n",
      "Epoch : 669, Loss: 0.05087393522262573, Test loss: 0.10044960677623749\n",
      "Epoch : 670, Loss: 0.05078250169754028, Test loss: 0.1003129705786705\n",
      "OrderedDict([('weights', tensor([0.5789])), ('biass', tensor([0.4165]))])\n",
      "Epoch : 671, Loss: 0.05069107562303543, Test loss: 0.10017647594213486\n",
      "Epoch : 672, Loss: 0.05059964209794998, Test loss: 0.10003988444805145\n",
      "Epoch : 673, Loss: 0.05050821974873543, Test loss: 0.09990331530570984\n",
      "Epoch : 674, Loss: 0.05041678622364998, Test loss: 0.09976672381162643\n",
      "Epoch : 675, Loss: 0.05032535269856453, Test loss: 0.09963016211986542\n",
      "Epoch : 676, Loss: 0.05023392289876938, Test loss: 0.0994936004281044\n",
      "Epoch : 677, Loss: 0.050142496824264526, Test loss: 0.099357008934021\n",
      "Epoch : 678, Loss: 0.050051070749759674, Test loss: 0.09922046214342117\n",
      "Epoch : 679, Loss: 0.049959950149059296, Test loss: 0.09901585429906845\n",
      "Epoch : 680, Loss: 0.04986896738409996, Test loss: 0.09887932986021042\n",
      "OrderedDict([('weights', tensor([0.5809])), ('biass', tensor([0.4143]))])\n",
      "Epoch : 681, Loss: 0.04977821558713913, Test loss: 0.0986747294664383\n",
      "Epoch : 682, Loss: 0.049687132239341736, Test loss: 0.09847012907266617\n",
      "Epoch : 683, Loss: 0.04959622770547867, Test loss: 0.09833360463380814\n",
      "Epoch : 684, Loss: 0.04950539395213127, Test loss: 0.09812901169061661\n",
      "Epoch : 685, Loss: 0.049414314329624176, Test loss: 0.09792441129684448\n",
      "Epoch : 686, Loss: 0.04932348430156708, Test loss: 0.09778788685798645\n",
      "Epoch : 687, Loss: 0.04923257976770401, Test loss: 0.09758325666189194\n",
      "Epoch : 688, Loss: 0.049141496419906616, Test loss: 0.0973786860704422\n",
      "Epoch : 689, Loss: 0.04905074089765549, Test loss: 0.09724216908216476\n",
      "Epoch : 690, Loss: 0.04895976185798645, Test loss: 0.09703757613897324\n",
      "OrderedDict([('weights', tensor([0.5831])), ('biass', tensor([0.4122]))])\n",
      "Epoch : 691, Loss: 0.048868678510189056, Test loss: 0.0968329906463623\n",
      "Epoch : 692, Loss: 0.0487779937684536, Test loss: 0.09669644385576248\n",
      "Epoch : 693, Loss: 0.04868695139884949, Test loss: 0.09649183601140976\n",
      "Epoch : 694, Loss: 0.048595912754535675, Test loss: 0.09635527431964874\n",
      "Epoch : 695, Loss: 0.04850522056221962, Test loss: 0.0961507186293602\n",
      "Epoch : 696, Loss: 0.04841413348913193, Test loss: 0.09594611078500748\n",
      "Epoch : 697, Loss: 0.04832316190004349, Test loss: 0.09580955654382706\n",
      "Epoch : 698, Loss: 0.04823239892721176, Test loss: 0.09560499340295792\n",
      "Epoch : 699, Loss: 0.04814131185412407, Test loss: 0.09540040791034698\n",
      "Epoch : 700, Loss: 0.048050425946712494, Test loss: 0.09526385366916656\n",
      "OrderedDict([('weights', tensor([0.5853])), ('biass', tensor([0.4101]))])\n",
      "Epoch : 701, Loss: 0.0479595810174942, Test loss: 0.09505929052829742\n",
      "Epoch : 702, Loss: 0.047868501394987106, Test loss: 0.09485470503568649\n",
      "Epoch : 703, Loss: 0.047777675092220306, Test loss: 0.09471811354160309\n",
      "Epoch : 704, Loss: 0.04768676683306694, Test loss: 0.09451355040073395\n",
      "Epoch : 705, Loss: 0.047595687210559845, Test loss: 0.09430897235870361\n",
      "Epoch : 706, Loss: 0.04750492796301842, Test loss: 0.0941723957657814\n",
      "Epoch : 707, Loss: 0.04741394892334938, Test loss: 0.09396784007549286\n",
      "Epoch : 708, Loss: 0.047322869300842285, Test loss: 0.09376324713230133\n",
      "Epoch : 709, Loss: 0.047232188284397125, Test loss: 0.09362666308879852\n",
      "Epoch : 710, Loss: 0.04714112728834152, Test loss: 0.09342209994792938\n",
      "OrderedDict([('weights', tensor([0.5874])), ('biass', tensor([0.4081]))])\n",
      "Epoch : 711, Loss: 0.04705009609460831, Test loss: 0.09328552335500717\n",
      "Epoch : 712, Loss: 0.04695940390229225, Test loss: 0.09308096021413803\n",
      "Epoch : 713, Loss: 0.04686831682920456, Test loss: 0.09287640452384949\n",
      "Epoch : 714, Loss: 0.046777356415987015, Test loss: 0.09273979067802429\n",
      "Epoch : 715, Loss: 0.04668658226728439, Test loss: 0.09253522008657455\n",
      "Epoch : 716, Loss: 0.046595498919487, Test loss: 0.0923306792974472\n",
      "Epoch : 717, Loss: 0.04650460183620453, Test loss: 0.09219406545162201\n",
      "Epoch : 718, Loss: 0.04641376808285713, Test loss: 0.09198950231075287\n",
      "Epoch : 719, Loss: 0.04632268100976944, Test loss: 0.09178496152162552\n",
      "Epoch : 720, Loss: 0.04623186215758324, Test loss: 0.09164833277463913\n",
      "OrderedDict([('weights', tensor([0.5896])), ('biass', tensor([0.4060]))])\n",
      "Epoch : 721, Loss: 0.046140946447849274, Test loss: 0.09144377708435059\n",
      "Epoch : 722, Loss: 0.04604986310005188, Test loss: 0.09123924374580383\n",
      "Epoch : 723, Loss: 0.04595912992954254, Test loss: 0.09110262244939804\n",
      "Epoch : 724, Loss: 0.045868124812841415, Test loss: 0.09089808166027069\n",
      "Epoch : 725, Loss: 0.04577704891562462, Test loss: 0.09069351851940155\n",
      "Epoch : 726, Loss: 0.045686375349760056, Test loss: 0.09055688977241516\n",
      "Epoch : 727, Loss: 0.045595310628414154, Test loss: 0.09035234898328781\n",
      "Epoch : 728, Loss: 0.045504290610551834, Test loss: 0.0902157723903656\n",
      "Epoch : 729, Loss: 0.045413583517074585, Test loss: 0.09001117199659348\n",
      "Epoch : 730, Loss: 0.04532250016927719, Test loss: 0.08980663120746613\n",
      "OrderedDict([('weights', tensor([0.5918])), ('biass', tensor([0.4039]))])\n",
      "Epoch : 731, Loss: 0.045231543481349945, Test loss: 0.08967006951570511\n",
      "Epoch : 732, Loss: 0.045140769332647324, Test loss: 0.08946545422077179\n",
      "Epoch : 733, Loss: 0.04504968598484993, Test loss: 0.08926090598106384\n",
      "Epoch : 734, Loss: 0.04495879262685776, Test loss: 0.08912433683872223\n",
      "Epoch : 735, Loss: 0.044867951422929764, Test loss: 0.0889197513461113\n",
      "Epoch : 736, Loss: 0.04477686807513237, Test loss: 0.08871518820524216\n",
      "Epoch : 737, Loss: 0.044686056673526764, Test loss: 0.08857861161231995\n",
      "Epoch : 738, Loss: 0.044595129787921906, Test loss: 0.08837401866912842\n",
      "Epoch : 739, Loss: 0.04450405389070511, Test loss: 0.08816947042942047\n",
      "Epoch : 740, Loss: 0.044413305819034576, Test loss: 0.08803290873765945\n",
      "OrderedDict([('weights', tensor([0.5940])), ('biass', tensor([0.4018]))])\n",
      "Epoch : 741, Loss: 0.04432231932878494, Test loss: 0.08782830089330673\n",
      "Epoch : 742, Loss: 0.04423123225569725, Test loss: 0.08762375265359879\n",
      "Epoch : 743, Loss: 0.044140562415122986, Test loss: 0.08748714625835419\n",
      "Epoch : 744, Loss: 0.04404950514435768, Test loss: 0.08728256821632385\n",
      "Epoch : 745, Loss: 0.04395846650004387, Test loss: 0.08714605867862701\n",
      "Epoch : 746, Loss: 0.04386775940656662, Test loss: 0.08694145828485489\n",
      "Epoch : 747, Loss: 0.04377668350934982, Test loss: 0.08673685789108276\n",
      "Epoch : 748, Loss: 0.043685730546712875, Test loss: 0.08660031855106354\n",
      "Epoch : 749, Loss: 0.043594952672719955, Test loss: 0.0863957330584526\n",
      "Epoch : 750, Loss: 0.04350386932492256, Test loss: 0.08619114011526108\n",
      "OrderedDict([('weights', tensor([0.5961])), ('biass', tensor([0.3997]))])\n",
      "Epoch : 751, Loss: 0.043412983417510986, Test loss: 0.08605460822582245\n",
      "Epoch : 752, Loss: 0.043322134763002396, Test loss: 0.08585001528263092\n",
      "Epoch : 753, Loss: 0.0432310476899147, Test loss: 0.08564542233943939\n",
      "Epoch : 754, Loss: 0.043140243738889694, Test loss: 0.08550887554883957\n",
      "Epoch : 755, Loss: 0.04304931312799454, Test loss: 0.08530429750680923\n",
      "Epoch : 756, Loss: 0.04295823723077774, Test loss: 0.0850997045636177\n",
      "Epoch : 757, Loss: 0.042867496609687805, Test loss: 0.08496317267417908\n",
      "Epoch : 758, Loss: 0.042776502668857574, Test loss: 0.08475857228040695\n",
      "Epoch : 759, Loss: 0.042685411870479584, Test loss: 0.08455397188663483\n",
      "Epoch : 760, Loss: 0.042594749480485916, Test loss: 0.0844174474477768\n",
      "OrderedDict([('weights', tensor([0.5983])), ('biass', tensor([0.3976]))])\n",
      "Epoch : 761, Loss: 0.04250367730855942, Test loss: 0.08421284705400467\n",
      "Epoch : 762, Loss: 0.042412664741277695, Test loss: 0.08407627046108246\n",
      "Epoch : 763, Loss: 0.04232194274663925, Test loss: 0.0838717371225357\n",
      "Epoch : 764, Loss: 0.042230866849422455, Test loss: 0.08366712927818298\n",
      "Epoch : 765, Loss: 0.042139921337366104, Test loss: 0.08353054523468018\n",
      "Epoch : 766, Loss: 0.04204913228750229, Test loss: 0.08332601189613342\n",
      "Epoch : 767, Loss: 0.04195806011557579, Test loss: 0.0831214040517807\n",
      "Epoch : 768, Loss: 0.041867174208164215, Test loss: 0.08298484981060028\n",
      "Epoch : 769, Loss: 0.04177631437778473, Test loss: 0.08278028666973114\n",
      "Epoch : 770, Loss: 0.041685231029987335, Test loss: 0.08257569372653961\n",
      "OrderedDict([('weights', tensor([0.6005])), ('biass', tensor([0.3955]))])\n",
      "Epoch : 771, Loss: 0.041594430804252625, Test loss: 0.0824391171336174\n",
      "Epoch : 772, Loss: 0.04150350019335747, Test loss: 0.08223457634449005\n",
      "Epoch : 773, Loss: 0.04141242057085037, Test loss: 0.08202996850013733\n",
      "Epoch : 774, Loss: 0.041321687400341034, Test loss: 0.08189339935779572\n",
      "Epoch : 775, Loss: 0.041230686008930206, Test loss: 0.08168885111808777\n",
      "Epoch : 776, Loss: 0.041139595210552216, Test loss: 0.08148424327373505\n",
      "Epoch : 777, Loss: 0.04104894399642944, Test loss: 0.08134767413139343\n",
      "Epoch : 778, Loss: 0.040957868099212646, Test loss: 0.08114312589168549\n",
      "Epoch : 779, Loss: 0.04086685925722122, Test loss: 0.08100651949644089\n",
      "Epoch : 780, Loss: 0.04077612981200218, Test loss: 0.08080195635557175\n",
      "OrderedDict([('weights', tensor([0.6027])), ('biass', tensor([0.3934]))])\n",
      "Epoch : 781, Loss: 0.04068505018949509, Test loss: 0.0805974006652832\n",
      "Epoch : 782, Loss: 0.040594108402729034, Test loss: 0.08046078681945801\n",
      "Epoch : 783, Loss: 0.04050331562757492, Test loss: 0.08025623857975006\n",
      "Epoch : 784, Loss: 0.040412236005067825, Test loss: 0.08005167543888092\n",
      "Epoch : 785, Loss: 0.04032136872410774, Test loss: 0.07991506159305573\n",
      "Epoch : 786, Loss: 0.04023049771785736, Test loss: 0.07971052080392838\n",
      "Epoch : 787, Loss: 0.04013941437005997, Test loss: 0.07950596511363983\n",
      "Epoch : 788, Loss: 0.04004862532019615, Test loss: 0.07936933636665344\n",
      "Epoch : 789, Loss: 0.0399576760828495, Test loss: 0.07916480302810669\n",
      "Epoch : 790, Loss: 0.039866600185632706, Test loss: 0.07896025478839874\n",
      "OrderedDict([('weights', tensor([0.6049])), ('biass', tensor([0.3914]))])\n",
      "Epoch : 791, Loss: 0.03977586701512337, Test loss: 0.07882361859083176\n",
      "Epoch : 792, Loss: 0.03968486934900284, Test loss: 0.07861907035112381\n",
      "Epoch : 793, Loss: 0.03959378972649574, Test loss: 0.0784825012087822\n",
      "Epoch : 794, Loss: 0.039503131061792374, Test loss: 0.07827790826559067\n",
      "Epoch : 795, Loss: 0.03941204771399498, Test loss: 0.07807333767414093\n",
      "Epoch : 796, Loss: 0.039321042597293854, Test loss: 0.07793678343296051\n",
      "Epoch : 797, Loss: 0.03923031687736511, Test loss: 0.07773219048976898\n",
      "Epoch : 798, Loss: 0.03913923725485802, Test loss: 0.07752763479948044\n",
      "Epoch : 799, Loss: 0.03904830291867256, Test loss: 0.07739105075597763\n",
      "Epoch : 800, Loss: 0.03895749896764755, Test loss: 0.0771864727139473\n",
      "OrderedDict([('weights', tensor([0.6070])), ('biass', tensor([0.3893]))])\n",
      "Epoch : 801, Loss: 0.03886641934514046, Test loss: 0.07698191702365875\n",
      "Epoch : 802, Loss: 0.03877555578947067, Test loss: 0.07684533298015594\n",
      "Epoch : 803, Loss: 0.03868468850851059, Test loss: 0.07664074003696442\n",
      "Epoch : 804, Loss: 0.0385935977101326, Test loss: 0.07643619179725647\n",
      "Epoch : 805, Loss: 0.03850281611084938, Test loss: 0.07629963755607605\n",
      "Epoch : 806, Loss: 0.03841186687350273, Test loss: 0.07609500735998154\n",
      "Epoch : 807, Loss: 0.038320787250995636, Test loss: 0.07589046657085419\n",
      "Epoch : 808, Loss: 0.038230061531066895, Test loss: 0.07575391232967377\n",
      "Epoch : 809, Loss: 0.03813904896378517, Test loss: 0.07554929703474045\n",
      "Epoch : 810, Loss: 0.03804797679185867, Test loss: 0.07541278004646301\n",
      "OrderedDict([('weights', tensor([0.6092])), ('biass', tensor([0.3872]))])\n",
      "Epoch : 811, Loss: 0.0379573255777359, Test loss: 0.07520819455385208\n",
      "Epoch : 812, Loss: 0.03786623477935791, Test loss: 0.07500357925891876\n",
      "Epoch : 813, Loss: 0.03777524083852768, Test loss: 0.07486705482006073\n",
      "Epoch : 814, Loss: 0.037684500217437744, Test loss: 0.07466244697570801\n",
      "Epoch : 815, Loss: 0.03759341314435005, Test loss: 0.07445786148309708\n",
      "Epoch : 816, Loss: 0.037502486258745193, Test loss: 0.07432134449481964\n",
      "Epoch : 817, Loss: 0.037411682307720184, Test loss: 0.07411672174930573\n",
      "Epoch : 818, Loss: 0.03732060641050339, Test loss: 0.0739121288061142\n",
      "Epoch : 819, Loss: 0.0372297465801239, Test loss: 0.07377561926841736\n",
      "Epoch : 820, Loss: 0.037138864398002625, Test loss: 0.07357102632522583\n",
      "OrderedDict([('weights', tensor([0.6114])), ('biass', tensor([0.3851]))])\n",
      "Epoch : 821, Loss: 0.03704778105020523, Test loss: 0.07336640357971191\n",
      "Epoch : 822, Loss: 0.036956995725631714, Test loss: 0.07322990149259567\n",
      "Epoch : 823, Loss: 0.03686605021357536, Test loss: 0.07302524149417877\n",
      "Epoch : 824, Loss: 0.036774955689907074, Test loss: 0.07282070815563202\n",
      "Epoch : 825, Loss: 0.03668425232172012, Test loss: 0.07268417626619339\n",
      "Epoch : 826, Loss: 0.0365932323038578, Test loss: 0.07247957587242126\n",
      "Epoch : 827, Loss: 0.0365021675825119, Test loss: 0.07234301418066025\n",
      "Epoch : 828, Loss: 0.03641149774193764, Test loss: 0.07213844358921051\n",
      "Epoch : 829, Loss: 0.03632041811943054, Test loss: 0.07193385064601898\n",
      "Epoch : 830, Loss: 0.03622942045331001, Test loss: 0.07179728150367737\n",
      "OrderedDict([('weights', tensor([0.6135])), ('biass', tensor([0.3830]))])\n",
      "Epoch : 831, Loss: 0.03613867983222008, Test loss: 0.07159273326396942\n",
      "Epoch : 832, Loss: 0.03604760766029358, Test loss: 0.0713881328701973\n",
      "Epoch : 833, Loss: 0.03595667704939842, Test loss: 0.07125157117843628\n",
      "Epoch : 834, Loss: 0.035865865647792816, Test loss: 0.07104702293872833\n",
      "Epoch : 835, Loss: 0.035774774849414825, Test loss: 0.07084241509437561\n",
      "Epoch : 836, Loss: 0.03568392992019653, Test loss: 0.0707058385014534\n",
      "Epoch : 837, Loss: 0.035593051463365555, Test loss: 0.07050129771232605\n",
      "Epoch : 838, Loss: 0.03550196439027786, Test loss: 0.07029669731855392\n",
      "Epoch : 839, Loss: 0.03541118651628494, Test loss: 0.07016011327505112\n",
      "Epoch : 840, Loss: 0.035320233553647995, Test loss: 0.06995557248592377\n",
      "OrderedDict([('weights', tensor([0.6157])), ('biass', tensor([0.3809]))])\n",
      "Epoch : 841, Loss: 0.0352291502058506, Test loss: 0.06975098699331284\n",
      "Epoch : 842, Loss: 0.035138435661792755, Test loss: 0.06961439549922943\n",
      "Epoch : 843, Loss: 0.035047415643930435, Test loss: 0.06940983235836029\n",
      "Epoch : 844, Loss: 0.03495635837316513, Test loss: 0.06927324086427689\n",
      "Epoch : 845, Loss: 0.03486568480730057, Test loss: 0.06906868517398834\n",
      "Epoch : 846, Loss: 0.03477460518479347, Test loss: 0.0688641369342804\n",
      "Epoch : 847, Loss: 0.03468360751867294, Test loss: 0.068727508187294\n",
      "Epoch : 848, Loss: 0.03459285944700241, Test loss: 0.06852296739816666\n",
      "Epoch : 849, Loss: 0.034501783549785614, Test loss: 0.06831841170787811\n",
      "Epoch : 850, Loss: 0.03441087156534195, Test loss: 0.06818177551031113\n",
      "OrderedDict([('weights', tensor([0.6179])), ('biass', tensor([0.3788]))])\n",
      "Epoch : 851, Loss: 0.03432004898786545, Test loss: 0.06797723472118378\n",
      "Epoch : 852, Loss: 0.03422896936535835, Test loss: 0.06777270138263702\n",
      "Epoch : 853, Loss: 0.03413812071084976, Test loss: 0.06763606518507004\n",
      "Epoch : 854, Loss: 0.03404723480343819, Test loss: 0.0674315020442009\n",
      "Epoch : 855, Loss: 0.03395615145564079, Test loss: 0.06722696125507355\n",
      "Epoch : 856, Loss: 0.03386538103222847, Test loss: 0.06709034740924835\n",
      "Epoch : 857, Loss: 0.033774424344301224, Test loss: 0.066885806620121\n",
      "Epoch : 858, Loss: 0.03368333354592323, Test loss: 0.06668125092983246\n",
      "Epoch : 859, Loss: 0.03359263017773628, Test loss: 0.06654462963342667\n",
      "Epoch : 860, Loss: 0.033501602709293365, Test loss: 0.06634007394313812\n",
      "OrderedDict([('weights', tensor([0.6201])), ('biass', tensor([0.3767]))])\n",
      "Epoch : 861, Loss: 0.03341054171323776, Test loss: 0.06620349735021591\n",
      "Epoch : 862, Loss: 0.0333198681473732, Test loss: 0.06599889695644379\n",
      "Epoch : 863, Loss: 0.033228788524866104, Test loss: 0.06579436361789703\n",
      "Epoch : 864, Loss: 0.03313780575990677, Test loss: 0.06565777957439423\n",
      "Epoch : 865, Loss: 0.03304705023765564, Test loss: 0.0654531717300415\n",
      "Epoch : 866, Loss: 0.032955966889858246, Test loss: 0.06524862349033356\n",
      "Epoch : 867, Loss: 0.032865047454833984, Test loss: 0.06511212885379791\n",
      "Epoch : 868, Loss: 0.032774247229099274, Test loss: 0.06490746885538101\n",
      "Epoch : 869, Loss: 0.032683152705430984, Test loss: 0.06470291316509247\n",
      "Epoch : 870, Loss: 0.032592304050922394, Test loss: 0.06456635147333145\n",
      "OrderedDict([('weights', tensor([0.6222])), ('biass', tensor([0.3746]))])\n",
      "Epoch : 871, Loss: 0.03250141441822052, Test loss: 0.06436173617839813\n",
      "Epoch : 872, Loss: 0.032410331070423126, Test loss: 0.06415718048810959\n",
      "Epoch : 873, Loss: 0.0323195643723011, Test loss: 0.06402061879634857\n",
      "Epoch : 874, Loss: 0.03222860023379326, Test loss: 0.06381602585315704\n",
      "Epoch : 875, Loss: 0.03213752061128616, Test loss: 0.0636114627122879\n",
      "Epoch : 876, Loss: 0.03204682096838951, Test loss: 0.0634748786687851\n",
      "Epoch : 877, Loss: 0.031955786049366, Test loss: 0.06327028572559357\n",
      "Epoch : 878, Loss: 0.03186472877860069, Test loss: 0.06313379108905792\n",
      "Epoch : 879, Loss: 0.031774040311574936, Test loss: 0.0629291906952858\n",
      "Epoch : 880, Loss: 0.03168296441435814, Test loss: 0.06272457540035248\n",
      "OrderedDict([('weights', tensor([0.6244])), ('biass', tensor([0.3726]))])\n",
      "Epoch : 881, Loss: 0.031591981649398804, Test loss: 0.06258806586265564\n",
      "Epoch : 882, Loss: 0.03150122985243797, Test loss: 0.062383461743593216\n",
      "Epoch : 883, Loss: 0.03141015022993088, Test loss: 0.0621788427233696\n",
      "Epoch : 884, Loss: 0.03131923824548721, Test loss: 0.062042344361543655\n",
      "Epoch : 885, Loss: 0.031228413805365562, Test loss: 0.061837732791900635\n",
      "Epoch : 886, Loss: 0.031137343496084213, Test loss: 0.06163312867283821\n",
      "Epoch : 887, Loss: 0.03104650042951107, Test loss: 0.061496615409851074\n",
      "Epoch : 888, Loss: 0.030955607071518898, Test loss: 0.06129199266433716\n",
      "Epoch : 889, Loss: 0.030864525586366653, Test loss: 0.061087410897016525\n",
      "Epoch : 890, Loss: 0.03077375330030918, Test loss: 0.060950905084609985\n",
      "OrderedDict([('weights', tensor([0.6266])), ('biass', tensor([0.3705]))])\n",
      "Epoch : 891, Loss: 0.03068278171122074, Test loss: 0.06074627488851547\n",
      "Epoch : 892, Loss: 0.030591700226068497, Test loss: 0.06054169684648514\n",
      "Epoch : 893, Loss: 0.03050100803375244, Test loss: 0.060405176132917404\n",
      "Epoch : 894, Loss: 0.03040996752679348, Test loss: 0.060200560837984085\n",
      "Epoch : 895, Loss: 0.030318915843963623, Test loss: 0.060064006596803665\n",
      "Epoch : 896, Loss: 0.030228231102228165, Test loss: 0.059859465807676315\n",
      "Epoch : 897, Loss: 0.030137155205011368, Test loss: 0.059654854238033295\n",
      "Epoch : 898, Loss: 0.03004617616534233, Test loss: 0.059518277645111084\n",
      "Epoch : 899, Loss: 0.029955413192510605, Test loss: 0.059313733130693436\n",
      "Epoch : 900, Loss: 0.029864341020584106, Test loss: 0.05910914018750191\n",
      "OrderedDict([('weights', tensor([0.6288])), ('biass', tensor([0.3684]))])\n",
      "Epoch : 901, Loss: 0.02977343462407589, Test loss: 0.058972567319869995\n",
      "Epoch : 902, Loss: 0.029682600870728493, Test loss: 0.05876802280545235\n",
      "Epoch : 903, Loss: 0.029591519385576248, Test loss: 0.058563411235809326\n",
      "Epoch : 904, Loss: 0.02950068935751915, Test loss: 0.058426838368177414\n",
      "Epoch : 905, Loss: 0.029409781098365784, Test loss: 0.05822228640317917\n",
      "Epoch : 906, Loss: 0.02931869961321354, Test loss: 0.058017682284116745\n",
      "Epoch : 907, Loss: 0.029227938503026962, Test loss: 0.057881128042936325\n",
      "Epoch : 908, Loss: 0.029136966913938522, Test loss: 0.05767657235264778\n",
      "Epoch : 909, Loss: 0.029045885428786278, Test loss: 0.05747196823358536\n",
      "Epoch : 910, Loss: 0.02895520068705082, Test loss: 0.057335395365953445\n",
      "OrderedDict([('weights', tensor([0.6309])), ('biass', tensor([0.3663]))])\n",
      "Epoch : 911, Loss: 0.028864160180091858, Test loss: 0.057130854576826096\n",
      "Epoch : 912, Loss: 0.02877311035990715, Test loss: 0.056994229555130005\n",
      "Epoch : 913, Loss: 0.028682416304945946, Test loss: 0.05678968504071236\n",
      "Epoch : 914, Loss: 0.0285913348197937, Test loss: 0.05658514052629471\n",
      "Epoch : 915, Loss: 0.02850036695599556, Test loss: 0.056448500603437424\n",
      "Epoch : 916, Loss: 0.028409596532583237, Test loss: 0.05624394863843918\n",
      "Epoch : 917, Loss: 0.028318513184785843, Test loss: 0.05603942275047302\n",
      "Epoch : 918, Loss: 0.02822761796414852, Test loss: 0.055902790278196335\n",
      "Epoch : 919, Loss: 0.028136784210801125, Test loss: 0.05569823458790779\n",
      "Epoch : 920, Loss: 0.02804570272564888, Test loss: 0.05549369007349014\n",
      "OrderedDict([('weights', tensor([0.6331])), ('biass', tensor([0.3642]))])\n",
      "Epoch : 921, Loss: 0.02795487642288208, Test loss: 0.055357057601213455\n",
      "Epoch : 922, Loss: 0.027863960713148117, Test loss: 0.055152516812086105\n",
      "Epoch : 923, Loss: 0.027772892266511917, Test loss: 0.05494798347353935\n",
      "Epoch : 924, Loss: 0.02768213115632534, Test loss: 0.054811347275972366\n",
      "Epoch : 925, Loss: 0.027591144666075706, Test loss: 0.05460680276155472\n",
      "Epoch : 926, Loss: 0.027500072494149208, Test loss: 0.05440226197242737\n",
      "Epoch : 927, Loss: 0.0274093896150589, Test loss: 0.05426561087369919\n",
      "Epoch : 928, Loss: 0.027318332344293594, Test loss: 0.05406108498573303\n",
      "Epoch : 929, Loss: 0.02722730115056038, Test loss: 0.053924523293972015\n",
      "Epoch : 930, Loss: 0.02713659405708313, Test loss: 0.0537198968231678\n",
      "OrderedDict([('weights', tensor([0.6353])), ('biass', tensor([0.3621]))])\n",
      "Epoch : 931, Loss: 0.02704552188515663, Test loss: 0.05351535230875015\n",
      "Epoch : 932, Loss: 0.02695455215871334, Test loss: 0.05337879806756973\n",
      "Epoch : 933, Loss: 0.026863783597946167, Test loss: 0.053174179047346115\n",
      "Epoch : 934, Loss: 0.026772702112793922, Test loss: 0.05296964570879936\n",
      "Epoch : 935, Loss: 0.026681801304221153, Test loss: 0.05283309146761894\n",
      "Epoch : 936, Loss: 0.026590969413518906, Test loss: 0.05262846499681473\n",
      "Epoch : 937, Loss: 0.026499886065721512, Test loss: 0.05242392420768738\n",
      "Epoch : 938, Loss: 0.02640906348824501, Test loss: 0.05228734016418457\n",
      "Epoch : 939, Loss: 0.026318151503801346, Test loss: 0.05208274722099304\n",
      "Epoch : 940, Loss: 0.026227066293358803, Test loss: 0.0518781952559948\n",
      "OrderedDict([('weights', tensor([0.6375])), ('biass', tensor([0.3600]))])\n",
      "Epoch : 941, Loss: 0.02613631822168827, Test loss: 0.05174161121249199\n",
      "Epoch : 942, Loss: 0.026045333594083786, Test loss: 0.05153701454401016\n",
      "Epoch : 943, Loss: 0.02595425210893154, Test loss: 0.0513325035572052\n",
      "Epoch : 944, Loss: 0.02586357668042183, Test loss: 0.0511958971619606\n",
      "Epoch : 945, Loss: 0.025772515684366226, Test loss: 0.05099130794405937\n",
      "Epoch : 946, Loss: 0.025681491941213608, Test loss: 0.05085479095578194\n",
      "Epoch : 947, Loss: 0.02559078298509121, Test loss: 0.05065019056200981\n",
      "Epoch : 948, Loss: 0.025499705225229263, Test loss: 0.05044558644294739\n",
      "Epoch : 949, Loss: 0.02540874481201172, Test loss: 0.05030905455350876\n",
      "Epoch : 950, Loss: 0.0253179632127285, Test loss: 0.05010448768734932\n",
      "OrderedDict([('weights', tensor([0.6396])), ('biass', tensor([0.3579]))])\n",
      "Epoch : 951, Loss: 0.025226891040802002, Test loss: 0.049899857491254807\n",
      "Epoch : 952, Loss: 0.02513599395751953, Test loss: 0.04976334050297737\n",
      "Epoch : 953, Loss: 0.025045150890946388, Test loss: 0.04955873638391495\n",
      "Epoch : 954, Loss: 0.024954065680503845, Test loss: 0.04935416579246521\n",
      "Epoch : 955, Loss: 0.02486324869096279, Test loss: 0.049217622727155685\n",
      "Epoch : 956, Loss: 0.024772334843873978, Test loss: 0.04901302978396416\n",
      "Epoch : 957, Loss: 0.024681249633431435, Test loss: 0.04880842566490173\n",
      "Epoch : 958, Loss: 0.0245905090123415, Test loss: 0.0486719086766243\n",
      "Epoch : 959, Loss: 0.024499516934156418, Test loss: 0.048467326909303665\n",
      "Epoch : 960, Loss: 0.02440844103693962, Test loss: 0.04826269671320915\n",
      "OrderedDict([('weights', tensor([0.6418])), ('biass', tensor([0.3559]))])\n",
      "Epoch : 961, Loss: 0.02431776374578476, Test loss: 0.04812619090080261\n",
      "Epoch : 962, Loss: 0.024226699024438858, Test loss: 0.04792157560586929\n",
      "Epoch : 963, Loss: 0.024135679006576538, Test loss: 0.04778500273823738\n",
      "Epoch : 964, Loss: 0.02404496632516384, Test loss: 0.04758045822381973\n",
      "Epoch : 965, Loss: 0.023953886702656746, Test loss: 0.04737589508295059\n",
      "Epoch : 966, Loss: 0.02386293187737465, Test loss: 0.047239284962415695\n",
      "Epoch : 967, Loss: 0.02377215586602688, Test loss: 0.04703475162386894\n",
      "Epoch : 968, Loss: 0.023681068792939186, Test loss: 0.04683014005422592\n",
      "Epoch : 969, Loss: 0.02359018661081791, Test loss: 0.04669357091188431\n",
      "Epoch : 970, Loss: 0.023499324917793274, Test loss: 0.04648903012275696\n",
      "OrderedDict([('weights', tensor([0.6440])), ('biass', tensor([0.3538]))])\n",
      "Epoch : 971, Loss: 0.023408256471157074, Test loss: 0.046284426003694534\n",
      "Epoch : 972, Loss: 0.023317445069551468, Test loss: 0.04614785313606262\n",
      "Epoch : 973, Loss: 0.02322651632130146, Test loss: 0.04594330117106438\n",
      "Epoch : 974, Loss: 0.023135436698794365, Test loss: 0.04573865979909897\n",
      "Epoch : 975, Loss: 0.023044699802994728, Test loss: 0.04560212045907974\n",
      "Epoch : 976, Loss: 0.0229537021368742, Test loss: 0.04539760947227478\n",
      "Epoch : 977, Loss: 0.022862622514367104, Test loss: 0.04519299417734146\n",
      "Epoch : 978, Loss: 0.02277195453643799, Test loss: 0.04505641385912895\n",
      "Epoch : 979, Loss: 0.022680889815092087, Test loss: 0.044851869344711304\n",
      "Epoch : 980, Loss: 0.022589869797229767, Test loss: 0.04471523314714432\n",
      "OrderedDict([('weights', tensor([0.6462])), ('biass', tensor([0.3517]))])\n",
      "Epoch : 981, Loss: 0.022499149665236473, Test loss: 0.04451069235801697\n",
      "Epoch : 982, Loss: 0.02240806818008423, Test loss: 0.04430614039301872\n",
      "Epoch : 983, Loss: 0.022317122668027878, Test loss: 0.04416951537132263\n",
      "Epoch : 984, Loss: 0.022226329892873764, Test loss: 0.04396496340632439\n",
      "Epoch : 985, Loss: 0.02213525027036667, Test loss: 0.04376041889190674\n",
      "Epoch : 986, Loss: 0.022044381126761436, Test loss: 0.04362378269433975\n",
      "Epoch : 987, Loss: 0.021953517571091652, Test loss: 0.04341927170753479\n",
      "Epoch : 988, Loss: 0.021862436085939407, Test loss: 0.04321470111608505\n",
      "Epoch : 989, Loss: 0.021771632134914398, Test loss: 0.04307807609438896\n",
      "Epoch : 990, Loss: 0.02168070711195469, Test loss: 0.042873531579971313\n",
      "OrderedDict([('weights', tensor([0.6483])), ('biass', tensor([0.3496]))])\n",
      "Epoch : 991, Loss: 0.021589621901512146, Test loss: 0.04266897961497307\n",
      "Epoch : 992, Loss: 0.02149888686835766, Test loss: 0.04253235459327698\n",
      "Epoch : 993, Loss: 0.02140788547694683, Test loss: 0.04232780262827873\n",
      "Epoch : 994, Loss: 0.021316807717084885, Test loss: 0.042123258113861084\n",
      "Epoch : 995, Loss: 0.021226145327091217, Test loss: 0.041986625641584396\n",
      "Epoch : 996, Loss: 0.02113506570458412, Test loss: 0.04178208112716675\n",
      "Epoch : 997, Loss: 0.021044062450528145, Test loss: 0.04164550453424454\n",
      "Epoch : 998, Loss: 0.020953334867954254, Test loss: 0.0414409339427948\n",
      "Epoch : 999, Loss: 0.020862247794866562, Test loss: 0.04123636335134506\n",
      "Epoch : 1000, Loss: 0.020771315321326256, Test loss: 0.04109979793429375\n",
      "OrderedDict([('weights', tensor([0.6505])), ('biass', tensor([0.3475]))])\n",
      "Epoch : 1001, Loss: 0.020680522546172142, Test loss: 0.04089519381523132\n",
      "Epoch : 1002, Loss: 0.0205894373357296, Test loss: 0.04069064185023308\n",
      "Epoch : 1003, Loss: 0.02049856446683407, Test loss: 0.04055405780673027\n",
      "Epoch : 1004, Loss: 0.020407704636454582, Test loss: 0.04034946486353874\n",
      "Epoch : 1005, Loss: 0.02031661942601204, Test loss: 0.040144920349121094\n",
      "Epoch : 1006, Loss: 0.020225826650857925, Test loss: 0.04000835493206978\n",
      "Epoch : 1007, Loss: 0.020134884864091873, Test loss: 0.03980374336242676\n",
      "Epoch : 1008, Loss: 0.02004380337893963, Test loss: 0.03959920257329941\n",
      "Epoch : 1009, Loss: 0.01995307393372059, Test loss: 0.03946264833211899\n",
      "Epoch : 1010, Loss: 0.019862066954374313, Test loss: 0.03925802558660507\n",
      "OrderedDict([('weights', tensor([0.6527])), ('biass', tensor([0.3454]))])\n",
      "Epoch : 1011, Loss: 0.019770989194512367, Test loss: 0.03912151977419853\n",
      "Epoch : 1012, Loss: 0.019680332392454147, Test loss: 0.038916923105716705\n",
      "Epoch : 1013, Loss: 0.01958926022052765, Test loss: 0.03871230408549309\n",
      "Epoch : 1014, Loss: 0.019498242065310478, Test loss: 0.03857579827308655\n",
      "Epoch : 1015, Loss: 0.019407521933317184, Test loss: 0.03837118297815323\n",
      "Epoch : 1016, Loss: 0.019316434860229492, Test loss: 0.038166582584381104\n",
      "Epoch : 1017, Loss: 0.019225498661398888, Test loss: 0.03803006932139397\n",
      "Epoch : 1018, Loss: 0.019134702160954475, Test loss: 0.03782550245523453\n",
      "Epoch : 1019, Loss: 0.019043628126382828, Test loss: 0.03762086480855942\n",
      "Epoch : 1020, Loss: 0.018952753394842148, Test loss: 0.03748437762260437\n",
      "OrderedDict([('weights', tensor([0.6549])), ('biass', tensor([0.3433]))])\n",
      "Epoch : 1021, Loss: 0.018861886113882065, Test loss: 0.03727973625063896\n",
      "Epoch : 1022, Loss: 0.01877080276608467, Test loss: 0.03707515448331833\n",
      "Epoch : 1023, Loss: 0.01868000626564026, Test loss: 0.036938637495040894\n",
      "Epoch : 1024, Loss: 0.018589071929454803, Test loss: 0.03673403337597847\n",
      "Epoch : 1025, Loss: 0.01849798485636711, Test loss: 0.03652942180633545\n",
      "Epoch : 1026, Loss: 0.018407268449664116, Test loss: 0.03639290854334831\n",
      "Epoch : 1027, Loss: 0.018316252157092094, Test loss: 0.03618830442428589\n",
      "Epoch : 1028, Loss: 0.018225178122520447, Test loss: 0.036051731556653976\n",
      "Epoch : 1029, Loss: 0.01813451573252678, Test loss: 0.03584718704223633\n",
      "Epoch : 1030, Loss: 0.018043439835309982, Test loss: 0.0356425866484642\n",
      "OrderedDict([('weights', tensor([0.6571])), ('biass', tensor([0.3412]))])\n",
      "Epoch : 1031, Loss: 0.017952432855963707, Test loss: 0.03550603985786438\n",
      "Epoch : 1032, Loss: 0.017861703410744667, Test loss: 0.03530146926641464\n",
      "Epoch : 1033, Loss: 0.017770620062947273, Test loss: 0.035096872597932816\n",
      "Epoch : 1034, Loss: 0.017679689452052116, Test loss: 0.0349602997303009\n",
      "Epoch : 1035, Loss: 0.017588883638381958, Test loss: 0.03475574776530266\n",
      "Epoch : 1036, Loss: 0.017497805878520012, Test loss: 0.03455113247036934\n",
      "Epoch : 1037, Loss: 0.017406944185495377, Test loss: 0.03441457077860832\n",
      "Epoch : 1038, Loss: 0.017316067591309547, Test loss: 0.034210026264190674\n",
      "Epoch : 1039, Loss: 0.0172249935567379, Test loss: 0.03400542587041855\n",
      "Epoch : 1040, Loss: 0.017134198918938637, Test loss: 0.03386884927749634\n",
      "OrderedDict([('weights', tensor([0.6592])), ('biass', tensor([0.3391]))])\n",
      "Epoch : 1041, Loss: 0.01704324781894684, Test loss: 0.03366430848836899\n",
      "Epoch : 1042, Loss: 0.01695217192173004, Test loss: 0.033459700644016266\n",
      "Epoch : 1043, Loss: 0.016861459240317345, Test loss: 0.03332313150167465\n",
      "Epoch : 1044, Loss: 0.016770431771874428, Test loss: 0.0331185981631279\n",
      "Epoch : 1045, Loss: 0.016679367050528526, Test loss: 0.03298196196556091\n",
      "Epoch : 1046, Loss: 0.01658870093524456, Test loss: 0.03277741000056267\n",
      "Epoch : 1047, Loss: 0.016497615724802017, Test loss: 0.03257286548614502\n",
      "Epoch : 1048, Loss: 0.016406621783971786, Test loss: 0.03243623301386833\n",
      "Epoch : 1049, Loss: 0.01631588116288185, Test loss: 0.032231688499450684\n",
      "Epoch : 1050, Loss: 0.016224801540374756, Test loss: 0.032027147710323334\n",
      "OrderedDict([('weights', tensor([0.6614])), ('biass', tensor([0.3371]))])\n",
      "Epoch : 1051, Loss: 0.016133876517415047, Test loss: 0.03189051151275635\n",
      "Epoch : 1052, Loss: 0.01604306697845459, Test loss: 0.031685970723629\n",
      "Epoch : 1053, Loss: 0.015951985493302345, Test loss: 0.031481415033340454\n",
      "Epoch : 1054, Loss: 0.015861133113503456, Test loss: 0.03134479373693466\n",
      "Epoch : 1055, Loss: 0.01577025279402733, Test loss: 0.031140262261033058\n",
      "Epoch : 1056, Loss: 0.015679169446229935, Test loss: 0.030935699120163918\n",
      "Epoch : 1057, Loss: 0.015588387846946716, Test loss: 0.030799072235822678\n",
      "Epoch : 1058, Loss: 0.01549743115901947, Test loss: 0.03059452772140503\n",
      "Epoch : 1059, Loss: 0.015406353399157524, Test loss: 0.030389994382858276\n",
      "Epoch : 1060, Loss: 0.01531564723700285, Test loss: 0.030253350734710693\n",
      "OrderedDict([('weights', tensor([0.6636])), ('biass', tensor([0.3350]))])\n",
      "Epoch : 1061, Loss: 0.015224618837237358, Test loss: 0.030048811808228493\n",
      "Epoch : 1062, Loss: 0.015133559703826904, Test loss: 0.029912197962403297\n",
      "Epoch : 1063, Loss: 0.015042886137962341, Test loss: 0.029707634821534157\n",
      "Epoch : 1064, Loss: 0.014951798133552074, Test loss: 0.029503077268600464\n",
      "Epoch : 1065, Loss: 0.014860810711979866, Test loss: 0.02936652861535549\n",
      "Epoch : 1066, Loss: 0.01477007009088993, Test loss: 0.029161924496293068\n",
      "Epoch : 1067, Loss: 0.014678982086479664, Test loss: 0.028957361355423927\n",
      "Epoch : 1068, Loss: 0.01458806823939085, Test loss: 0.028820788487792015\n",
      "Epoch : 1069, Loss: 0.014497250318527222, Test loss: 0.02861618995666504\n",
      "Epoch : 1070, Loss: 0.014406169764697552, Test loss: 0.028411656618118286\n",
      "OrderedDict([('weights', tensor([0.6658])), ('biass', tensor([0.3329]))])\n",
      "Epoch : 1071, Loss: 0.01431532483547926, Test loss: 0.02827507257461548\n",
      "Epoch : 1072, Loss: 0.014224437065422535, Test loss: 0.028070474043488503\n",
      "Epoch : 1073, Loss: 0.014133354648947716, Test loss: 0.027865935117006302\n",
      "Epoch : 1074, Loss: 0.014042575843632221, Test loss: 0.027729356661438942\n",
      "Epoch : 1075, Loss: 0.013951617293059826, Test loss: 0.027524739503860474\n",
      "Epoch : 1076, Loss: 0.013860541395843029, Test loss: 0.027320224791765213\n",
      "Epoch : 1077, Loss: 0.013769835233688354, Test loss: 0.0271836519241333\n",
      "Epoch : 1078, Loss: 0.013678801245987415, Test loss: 0.026979023590683937\n",
      "Epoch : 1079, Loss: 0.013587740249931812, Test loss: 0.026842515915632248\n",
      "Epoch : 1080, Loss: 0.013497071340680122, Test loss: 0.02663792297244072\n",
      "OrderedDict([('weights', tensor([0.6679])), ('biass', tensor([0.3308]))])\n",
      "Epoch : 1081, Loss: 0.013405987992882729, Test loss: 0.026433318853378296\n",
      "Epoch : 1082, Loss: 0.01331500243395567, Test loss: 0.026296794414520264\n",
      "Epoch : 1083, Loss: 0.013224256224930286, Test loss: 0.026092195883393288\n",
      "Epoch : 1084, Loss: 0.013133173808455467, Test loss: 0.02588759735226631\n",
      "Epoch : 1085, Loss: 0.013042251579463482, Test loss: 0.025751078501343727\n",
      "Epoch : 1086, Loss: 0.012951433658599854, Test loss: 0.02554645575582981\n",
      "Epoch : 1087, Loss: 0.012860355898737907, Test loss: 0.025341887027025223\n",
      "Epoch : 1088, Loss: 0.012769514694809914, Test loss: 0.025205368176102638\n",
      "Epoch : 1089, Loss: 0.012678620405495167, Test loss: 0.025000739842653275\n",
      "Epoch : 1090, Loss: 0.012587539851665497, Test loss: 0.024796152487397194\n",
      "OrderedDict([('weights', tensor([0.6701])), ('biass', tensor([0.3287]))])\n",
      "Epoch : 1091, Loss: 0.012496765702962875, Test loss: 0.02465963363647461\n",
      "Epoch : 1092, Loss: 0.012405803427100182, Test loss: 0.02445504628121853\n",
      "Epoch : 1093, Loss: 0.012314725667238235, Test loss: 0.024250423535704613\n",
      "Epoch : 1094, Loss: 0.012224020436406136, Test loss: 0.024113917723298073\n",
      "Epoch : 1095, Loss: 0.012132984586060047, Test loss: 0.023909330368041992\n",
      "Epoch : 1096, Loss: 0.012041931971907616, Test loss: 0.023772740736603737\n",
      "Epoch : 1097, Loss: 0.011951248161494732, Test loss: 0.023568183183670044\n",
      "Epoch : 1098, Loss: 0.011860170401632786, Test loss: 0.023363614454865456\n",
      "Epoch : 1099, Loss: 0.011769192293286324, Test loss: 0.023227030411362648\n",
      "Epoch : 1100, Loss: 0.011678429320454597, Test loss: 0.023022467270493507\n",
      "OrderedDict([('weights', tensor([0.6723])), ('biass', tensor([0.3266]))])\n",
      "Epoch : 1101, Loss: 0.01158735528588295, Test loss: 0.022817861288785934\n",
      "Epoch : 1102, Loss: 0.01149644237011671, Test loss: 0.02268129587173462\n",
      "Epoch : 1103, Loss: 0.011405618861317635, Test loss: 0.022476762533187866\n",
      "Epoch : 1104, Loss: 0.011314542964100838, Test loss: 0.022272134199738503\n",
      "Epoch : 1105, Loss: 0.011223698034882545, Test loss: 0.022135579958558083\n",
      "Epoch : 1106, Loss: 0.011132798157632351, Test loss: 0.021931041032075882\n",
      "Epoch : 1107, Loss: 0.011041725985705853, Test loss: 0.02172642946243286\n",
      "Epoch : 1108, Loss: 0.010950954630970955, Test loss: 0.021589845418930054\n",
      "Epoch : 1109, Loss: 0.010859993286430836, Test loss: 0.021385330706834793\n",
      "Epoch : 1110, Loss: 0.010768910869956017, Test loss: 0.021180640906095505\n",
      "OrderedDict([('weights', tensor([0.6745])), ('biass', tensor([0.3245]))])\n",
      "Epoch : 1111, Loss: 0.010678209364414215, Test loss: 0.021044129505753517\n",
      "Epoch : 1112, Loss: 0.010587167926132679, Test loss: 0.020839596167206764\n",
      "Epoch : 1113, Loss: 0.010496127419173717, Test loss: 0.02070295810699463\n",
      "Epoch : 1114, Loss: 0.010405436158180237, Test loss: 0.020498424768447876\n",
      "Epoch : 1115, Loss: 0.01031435839831829, Test loss: 0.020293867215514183\n",
      "Epoch : 1116, Loss: 0.010223379358649254, Test loss: 0.020157242193818092\n",
      "Epoch : 1117, Loss: 0.010132618248462677, Test loss: 0.01995270326733589\n",
      "Epoch : 1118, Loss: 0.010041534900665283, Test loss: 0.019748151302337646\n",
      "Epoch : 1119, Loss: 0.009950637817382812, Test loss: 0.019611507654190063\n",
      "Epoch : 1120, Loss: 0.009859805926680565, Test loss: 0.019406992942094803\n",
      "OrderedDict([('weights', tensor([0.6766])), ('biass', tensor([0.3224]))])\n",
      "Epoch : 1121, Loss: 0.009768725372850895, Test loss: 0.019202422350645065\n",
      "Epoch : 1122, Loss: 0.009677891619503498, Test loss: 0.019065791741013527\n",
      "Epoch : 1123, Loss: 0.009586979635059834, Test loss: 0.018861258402466774\n",
      "Epoch : 1124, Loss: 0.00949590653181076, Test loss: 0.018656712025403976\n",
      "Epoch : 1125, Loss: 0.009405146352946758, Test loss: 0.018520087003707886\n",
      "Epoch : 1126, Loss: 0.009314170107245445, Test loss: 0.018315529450774193\n",
      "Epoch : 1127, Loss: 0.009223087690770626, Test loss: 0.018110990524291992\n",
      "Epoch : 1128, Loss: 0.009132404811680317, Test loss: 0.0179743655025959\n",
      "Epoch : 1129, Loss: 0.009041348472237587, Test loss: 0.017769813537597656\n",
      "Epoch : 1130, Loss: 0.008950317278504372, Test loss: 0.017633235082030296\n",
      "OrderedDict([('weights', tensor([0.6788])), ('biass', tensor([0.3203]))])\n",
      "Epoch : 1131, Loss: 0.008859622292220592, Test loss: 0.017428655177354813\n",
      "Epoch : 1132, Loss: 0.008768538013100624, Test loss: 0.017224084585905075\n",
      "Epoch : 1133, Loss: 0.008677572011947632, Test loss: 0.01708751916885376\n",
      "Epoch : 1134, Loss: 0.008586798794567585, Test loss: 0.016882920637726784\n",
      "Epoch : 1135, Loss: 0.008495720103383064, Test loss: 0.016678374260663986\n",
      "Epoch : 1136, Loss: 0.008404823951423168, Test loss: 0.016541803255677223\n",
      "Epoch : 1137, Loss: 0.008313989266753197, Test loss: 0.016337191686034203\n",
      "Epoch : 1138, Loss: 0.008222903124988079, Test loss: 0.016132652759552002\n",
      "Epoch : 1139, Loss: 0.008132079616189003, Test loss: 0.015996074303984642\n",
      "Epoch : 1140, Loss: 0.00804117415100336, Test loss: 0.015791475772857666\n",
      "OrderedDict([('weights', tensor([0.6810])), ('biass', tensor([0.3183]))])\n",
      "Epoch : 1141, Loss: 0.007950092665851116, Test loss: 0.015586930327117443\n",
      "Epoch : 1142, Loss: 0.007859332486987114, Test loss: 0.015450370498001575\n",
      "Epoch : 1143, Loss: 0.007768356241285801, Test loss: 0.01524574775248766\n",
      "Epoch : 1144, Loss: 0.0076772719621658325, Test loss: 0.015041214413940907\n",
      "Epoch : 1145, Loss: 0.0075865862891077995, Test loss: 0.014904653653502464\n",
      "Epoch : 1146, Loss: 0.00749554019421339, Test loss: 0.01470003742724657\n",
      "Epoch : 1147, Loss: 0.007404499687254429, Test loss: 0.014563530683517456\n",
      "Epoch : 1148, Loss: 0.0073138088919222355, Test loss: 0.014358925633132458\n",
      "Epoch : 1149, Loss: 0.007222719490528107, Test loss: 0.014154314994812012\n",
      "Epoch : 1150, Loss: 0.007131755352020264, Test loss: 0.014017808251082897\n",
      "OrderedDict([('weights', tensor([0.6831])), ('biass', tensor([0.3162]))])\n",
      "Epoch : 1151, Loss: 0.007040992379188538, Test loss: 0.013813197612762451\n",
      "Epoch : 1152, Loss: 0.006949911825358868, Test loss: 0.013608592562377453\n",
      "Epoch : 1153, Loss: 0.0068590072914958, Test loss: 0.013472097925841808\n",
      "Epoch : 1154, Loss: 0.006768175400793552, Test loss: 0.01326752919703722\n",
      "Epoch : 1155, Loss: 0.006677098572254181, Test loss: 0.013062876649200916\n",
      "Epoch : 1156, Loss: 0.006586263421922922, Test loss: 0.012926364317536354\n",
      "Epoch : 1157, Loss: 0.006495359353721142, Test loss: 0.012721752747893333\n",
      "Epoch : 1158, Loss: 0.006404276005923748, Test loss: 0.012517159804701805\n",
      "Epoch : 1159, Loss: 0.0063135200180113316, Test loss: 0.012380635365843773\n",
      "Epoch : 1160, Loss: 0.0062225391156971455, Test loss: 0.012176036834716797\n",
      "OrderedDict([('weights', tensor([0.6853])), ('biass', tensor([0.3141]))])\n",
      "Epoch : 1161, Loss: 0.006131453439593315, Test loss: 0.01197143830358982\n",
      "Epoch : 1162, Loss: 0.006040777079761028, Test loss: 0.011834919452667236\n",
      "Epoch : 1163, Loss: 0.005949723534286022, Test loss: 0.01163030881434679\n",
      "Epoch : 1164, Loss: 0.005858687683939934, Test loss: 0.011493760161101818\n",
      "Epoch : 1165, Loss: 0.0057679894380271435, Test loss: 0.01128919143229723\n",
      "Epoch : 1166, Loss: 0.005676906555891037, Test loss: 0.01108461618423462\n",
      "Epoch : 1167, Loss: 0.005585941486060619, Test loss: 0.010948026552796364\n",
      "Epoch : 1168, Loss: 0.005495167803019285, Test loss: 0.010743481107056141\n",
      "Epoch : 1169, Loss: 0.005404090043157339, Test loss: 0.010538863949477673\n",
      "Epoch : 1170, Loss: 0.005313203204423189, Test loss: 0.010402297601103783\n",
      "OrderedDict([('weights', tensor([0.6875])), ('biass', tensor([0.3120]))])\n",
      "Epoch : 1171, Loss: 0.005222356412559748, Test loss: 0.010197758674621582\n",
      "Epoch : 1172, Loss: 0.0051312753930687904, Test loss: 0.009993160143494606\n",
      "Epoch : 1173, Loss: 0.005040457472205162, Test loss: 0.009856581687927246\n",
      "Epoch : 1174, Loss: 0.004949538502842188, Test loss: 0.009652036242187023\n",
      "Epoch : 1175, Loss: 0.004858454689383507, Test loss: 0.009447443298995495\n",
      "Epoch : 1176, Loss: 0.004767709411680698, Test loss: 0.00931085366755724\n",
      "Epoch : 1177, Loss: 0.004676702432334423, Test loss: 0.009106320329010487\n",
      "Epoch : 1178, Loss: 0.00458564143627882, Test loss: 0.008901691064238548\n",
      "Epoch : 1179, Loss: 0.004494968801736832, Test loss: 0.00876514334231615\n",
      "Epoch : 1180, Loss: 0.004403907805681229, Test loss: 0.008560603484511375\n",
      "OrderedDict([('weights', tensor([0.6897])), ('biass', tensor([0.3099]))])\n",
      "Epoch : 1181, Loss: 0.004312887787818909, Test loss: 0.008423959836363792\n",
      "Epoch : 1182, Loss: 0.004222167655825615, Test loss: 0.008219420909881592\n",
      "Epoch : 1183, Loss: 0.00413108803331852, Test loss: 0.008014881983399391\n",
      "Epoch : 1184, Loss: 0.004040137864649296, Test loss: 0.007878243923187256\n",
      "Epoch : 1185, Loss: 0.003949356265366077, Test loss: 0.007673698477447033\n",
      "Epoch : 1186, Loss: 0.0038582724519073963, Test loss: 0.007469159550964832\n",
      "Epoch : 1187, Loss: 0.003767389804124832, Test loss: 0.007332515902817249\n",
      "Epoch : 1188, Loss: 0.003676537424325943, Test loss: 0.007127982564270496\n",
      "Epoch : 1189, Loss: 0.003585460828617215, Test loss: 0.0069234371185302734\n",
      "Epoch : 1190, Loss: 0.0034946464002132416, Test loss: 0.00678680557757616\n",
      "OrderedDict([('weights', tensor([0.6918])), ('biass', tensor([0.3078]))])\n",
      "Epoch : 1191, Loss: 0.003403719514608383, Test loss: 0.0065822661854326725\n",
      "Epoch : 1192, Loss: 0.003312641754746437, Test loss: 0.006377714686095715\n",
      "Epoch : 1193, Loss: 0.003221902996301651, Test loss: 0.0062410831451416016\n",
      "Epoch : 1194, Loss: 0.0031309020705521107, Test loss: 0.006036543752998114\n",
      "Epoch : 1195, Loss: 0.0030398215167224407, Test loss: 0.005831992719322443\n",
      "Epoch : 1196, Loss: 0.0029491581954061985, Test loss: 0.005695360712707043\n",
      "Epoch : 1197, Loss: 0.002858084160834551, Test loss: 0.005490821786224842\n",
      "Epoch : 1198, Loss: 0.002767064841464162, Test loss: 0.005354178138077259\n",
      "Epoch : 1199, Loss: 0.002676351461559534, Test loss: 0.005149644799530506\n"
     ]
    }
   ],
   "source": [
    "#train model \n",
    "# loop through data\n",
    "# forward pass\n",
    "# calculate loss and optimize (compare prediction with groundtruth data)\n",
    "# Optimize zero grad\n",
    "# loss backward- move backward in network and calculate the gradient of each of the parameters\n",
    "# optimizer step and improve loss (gradient descent)\n",
    "#\n",
    "epochs = 1200\n",
    "epoch_count = []\n",
    "loss_values = []\n",
    "test_loss_values= []\n",
    "for epoch in range(epochs):\n",
    "    #set to training mode\n",
    "    model_0.train()\n",
    "    y_pred = model_0(X_train)\n",
    "    loss = loss_fn(y_pred, y_train)\n",
    "    #print(f\"Loss: {loss}\")\n",
    "    optmizer.zero_grad()\n",
    "    #perform backpropagation\n",
    "\n",
    "    loss.backward()\n",
    "    #gradient descent\n",
    "\n",
    "    optmizer.step()\n",
    "    model_0.eval()\n",
    "    with torch.inference_mode():\n",
    "        test_pred = model_0(X_test)\n",
    "        test_loss = loss_fn(test_pred,y_test)\n",
    "        #print(f\"Test while training: {test_loss}\")\n",
    "    #print(model_0.state_dict())\n",
    "    print(f\"Epoch : {epoch}, Loss: {loss}, Test loss: {test_loss}\")\n",
    "    epoch_count.append(epoch)\n",
    "    loss_values.append(loss)\n",
    "    test_loss_values.append(test_loss)\n",
    "    if epoch%10==0:\n",
    "        print(model_0.state_dict())\n",
    "\n",
    "\n",
    "\n"
   ]
  },
  {
   "cell_type": "code",
   "execution_count": 725,
   "metadata": {},
   "outputs": [],
   "source": [
    "with torch.inference_mode():\n",
    "    y_pred_new = model_0(X_test)\n"
   ]
  },
  {
   "cell_type": "code",
   "execution_count": 726,
   "metadata": {},
   "outputs": [
    {
     "data": {
      "image/png": "[encoded data removed]",
      "text/plain": [
       "<Figure size 1000x700 with 1 Axes>"
      ]
     },
     "metadata": {},
     "output_type": "display_data"
    }
   ],
   "source": [
    "plot_predictions(predictions=y_pred_new)"
   ]
  },
  {
   "cell_type": "code",
   "execution_count": 727,
   "metadata": {},
   "outputs": [
    {
     "data": {
      "image/png": "[encoded data removed]",
      "text/plain": [
       "<Figure size 640x480 with 1 Axes>"
      ]
     },
     "metadata": {},
     "output_type": "display_data"
    }
   ],
   "source": [
    "plt.plot(epoch_count,np.array(torch.tensor(loss_values).cpu().numpy()),label = \"Training LOSSS\")\n",
    "plt.plot(epoch_count,test_loss_values,label=\"Test loss\")\n",
    "plt.title(\"training and test loss curves\")\n",
    "plt.ylabel(\"LOSS\")\n",
    "plt.xlabel(\"Epochs\")\n",
    "plt.legend();"
   ]
  },
  {
   "cell_type": "code",
   "execution_count": 741,
   "metadata": {},
   "outputs": [],
   "source": [
    "#save model and loading model\n",
    "from pathlib import Path\n",
    "model_path = Path(\"Models\")\n",
    "model_path.mkdir(parents=True,exist_ok=True)\n",
    "model_name = \"model_0.pth\"\n",
    "model_save_path = model_path/model_name\n",
    "torch.save(obj=model_0.state_dict(),f=model_save_path)\n"
   ]
  },
  {
   "cell_type": "code",
   "execution_count": 744,
   "metadata": {},
   "outputs": [
    {
     "data": {
      "text/plain": [
       "OrderedDict([('weights', tensor([0.6938])), ('biass', tensor([0.3059]))])"
      ]
     },
     "execution_count": 744,
     "metadata": {},
     "output_type": "execute_result"
    }
   ],
   "source": [
    "loaded_model_0 = LinearRegressionModel()\n",
    "loaded_model_0.load_state_dict(torch.load(model_path/model_name))\n",
    "loaded_model_0.state_dict()"
   ]
  },
  {
   "cell_type": "code",
   "execution_count": 745,
   "metadata": {},
   "outputs": [
    {
     "data": {
      "text/plain": [
       "tensor([[1.4160],\n",
       "        [1.4299],\n",
       "        [1.4438],\n",
       "        [1.4577],\n",
       "        [1.4715],\n",
       "        [1.4854],\n",
       "        [1.4993],\n",
       "        [1.5132],\n",
       "        [1.5270],\n",
       "        [1.5409],\n",
       "        [1.5548],\n",
       "        [1.5687],\n",
       "        [1.5825],\n",
       "        [1.5964],\n",
       "        [1.6103],\n",
       "        [1.6242],\n",
       "        [1.6380],\n",
       "        [1.6519],\n",
       "        [1.6658],\n",
       "        [1.6797]])"
      ]
     },
     "execution_count": 745,
     "metadata": {},
     "output_type": "execute_result"
    }
   ],
   "source": [
    "#make predict to check if its correct\n",
    "\n",
    "loaded_model_0.eval()\n",
    "with torch.inference_mode():\n",
    "    loaded_model_preds = loaded_model_0(X_test)\n",
    "\n",
    "loaded_model_preds"
   ]
  },
  {
   "cell_type": "code",
   "execution_count": 746,
   "metadata": {},
   "outputs": [
    {
     "data": {
      "text/plain": [
       "tensor([[True],\n",
       "        [True],\n",
       "        [True],\n",
       "        [True],\n",
       "        [True],\n",
       "        [True],\n",
       "        [True],\n",
       "        [True],\n",
       "        [True],\n",
       "        [True],\n",
       "        [True],\n",
       "        [True],\n",
       "        [True],\n",
       "        [True],\n",
       "        [True],\n",
       "        [True],\n",
       "        [True],\n",
       "        [True],\n",
       "        [True],\n",
       "        [True]])"
      ]
     },
     "execution_count": 746,
     "metadata": {},
     "output_type": "execute_result"
    }
   ],
   "source": [
    "y_pred_new==loaded_model_preds"
   ]
  },
  {
   "cell_type": "code",
   "execution_count": null,
   "metadata": {},
   "outputs": [],
   "source": []
  }
 ],
 "metadata": {
  "kernelspec": {
   "display_name": "Python 3",
   "language": "python",
   "name": "python3"
  },
  "language_info": {
   "codemirror_mode": {
    "name": "ipython",
    "version": 3
   },
   "file_extension": ".py",
   "mimetype": "text/x-python",
   "name": "python",
   "nbconvert_exporter": "python",
   "pygments_lexer": "ipython3",
   "version": "3.11.4"
  },
  "orig_nbformat": 4
 },
 "nbformat": 4,
 "nbformat_minor": 2
}
